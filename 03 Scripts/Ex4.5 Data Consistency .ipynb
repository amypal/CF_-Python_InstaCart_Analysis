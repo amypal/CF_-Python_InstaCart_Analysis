{
 "cells": [
  {
   "cell_type": "markdown",
   "id": "b30a9bbc",
   "metadata": {},
   "source": [
    "##### InstaCart Project \n",
    "\n",
    "## Ex4.5 Data Consistency\n",
    "\n",
    "### Contents\n",
    "- 1. Import libraries\n",
    "- 2. Import orders df, products df and departments df\n",
    "- 3. Accuracy Checks\n",
    "- 4. Mixed data types\n",
    "- 5. Missing Values\n",
    "- 6. Duplicates\n",
    "- 7. Exporting dataframe\n",
    "- 8. Task questions\n",
    "\n",
    "# 01 Import libraries"
   ]
  },
  {
   "cell_type": "code",
   "execution_count": 1,
   "id": "11c03736",
   "metadata": {},
   "outputs": [],
   "source": [
    "#Importing libraries\n",
    "import pandas as pd\n",
    "import numpy as np\n",
    "import os"
   ]
  },
  {
   "cell_type": "markdown",
   "id": "0bf20f27",
   "metadata": {},
   "source": [
    "# 02 Import Dataframes"
   ]
  },
  {
   "cell_type": "code",
   "execution_count": 2,
   "id": "cf24bde3",
   "metadata": {},
   "outputs": [],
   "source": [
    "#Create filepath\n",
    "path = r'//Users/amypalomino/Documents/(03.22) InstaCart Basket Analysis'"
   ]
  },
  {
   "cell_type": "code",
   "execution_count": 3,
   "id": "f96d0e2d",
   "metadata": {},
   "outputs": [],
   "source": [
    "#Importing products.csv as df_prods\n",
    "df_prods = pd.read_csv(\n",
    "    os.path.join(\n",
    "        path, '02 Data', 'Original Data', 'products.csv'),\n",
    "index_col = False)"
   ]
  },
  {
   "cell_type": "code",
   "execution_count": 4,
   "id": "fec8eed1",
   "metadata": {},
   "outputs": [],
   "source": [
    "#Importing wrangled orders.csv as df_ords\n",
    "df_ords = pd.read_csv(\n",
    "    os.path.join(\n",
    "        path, '02 Data', 'Prepared Data', 'orders_wrangled.csv'),\n",
    "index_col = False)"
   ]
  },
  {
   "cell_type": "markdown",
   "id": "8e7030d8",
   "metadata": {},
   "source": [
    "# 03 Accuracy checks"
   ]
  },
  {
   "cell_type": "code",
   "execution_count": 5,
   "id": "d7fd7a98",
   "metadata": {
    "scrolled": true
   },
   "outputs": [
    {
     "data": {
      "text/html": [
       "<div>\n",
       "<style scoped>\n",
       "    .dataframe tbody tr th:only-of-type {\n",
       "        vertical-align: middle;\n",
       "    }\n",
       "\n",
       "    .dataframe tbody tr th {\n",
       "        vertical-align: top;\n",
       "    }\n",
       "\n",
       "    .dataframe thead th {\n",
       "        text-align: right;\n",
       "    }\n",
       "</style>\n",
       "<table border=\"1\" class=\"dataframe\">\n",
       "  <thead>\n",
       "    <tr style=\"text-align: right;\">\n",
       "      <th></th>\n",
       "      <th>Unnamed: 0</th>\n",
       "      <th>order_id</th>\n",
       "      <th>user_id</th>\n",
       "      <th>order_number</th>\n",
       "      <th>order_day_of_week</th>\n",
       "      <th>order_hour_of_day</th>\n",
       "      <th>days_since_prior_order</th>\n",
       "    </tr>\n",
       "  </thead>\n",
       "  <tbody>\n",
       "    <tr>\n",
       "      <th>count</th>\n",
       "      <td>3.421083e+06</td>\n",
       "      <td>3.421083e+06</td>\n",
       "      <td>3.421083e+06</td>\n",
       "      <td>3.421083e+06</td>\n",
       "      <td>3.421083e+06</td>\n",
       "      <td>3.421083e+06</td>\n",
       "      <td>3.214874e+06</td>\n",
       "    </tr>\n",
       "    <tr>\n",
       "      <th>mean</th>\n",
       "      <td>1.710541e+06</td>\n",
       "      <td>1.710542e+06</td>\n",
       "      <td>1.029782e+05</td>\n",
       "      <td>1.715486e+01</td>\n",
       "      <td>2.776219e+00</td>\n",
       "      <td>1.345202e+01</td>\n",
       "      <td>1.111484e+01</td>\n",
       "    </tr>\n",
       "    <tr>\n",
       "      <th>std</th>\n",
       "      <td>9.875817e+05</td>\n",
       "      <td>9.875817e+05</td>\n",
       "      <td>5.953372e+04</td>\n",
       "      <td>1.773316e+01</td>\n",
       "      <td>2.046829e+00</td>\n",
       "      <td>4.226088e+00</td>\n",
       "      <td>9.206737e+00</td>\n",
       "    </tr>\n",
       "    <tr>\n",
       "      <th>min</th>\n",
       "      <td>0.000000e+00</td>\n",
       "      <td>1.000000e+00</td>\n",
       "      <td>1.000000e+00</td>\n",
       "      <td>1.000000e+00</td>\n",
       "      <td>0.000000e+00</td>\n",
       "      <td>0.000000e+00</td>\n",
       "      <td>0.000000e+00</td>\n",
       "    </tr>\n",
       "    <tr>\n",
       "      <th>25%</th>\n",
       "      <td>8.552705e+05</td>\n",
       "      <td>8.552715e+05</td>\n",
       "      <td>5.139400e+04</td>\n",
       "      <td>5.000000e+00</td>\n",
       "      <td>1.000000e+00</td>\n",
       "      <td>1.000000e+01</td>\n",
       "      <td>4.000000e+00</td>\n",
       "    </tr>\n",
       "    <tr>\n",
       "      <th>50%</th>\n",
       "      <td>1.710541e+06</td>\n",
       "      <td>1.710542e+06</td>\n",
       "      <td>1.026890e+05</td>\n",
       "      <td>1.100000e+01</td>\n",
       "      <td>3.000000e+00</td>\n",
       "      <td>1.300000e+01</td>\n",
       "      <td>7.000000e+00</td>\n",
       "    </tr>\n",
       "    <tr>\n",
       "      <th>75%</th>\n",
       "      <td>2.565812e+06</td>\n",
       "      <td>2.565812e+06</td>\n",
       "      <td>1.543850e+05</td>\n",
       "      <td>2.300000e+01</td>\n",
       "      <td>5.000000e+00</td>\n",
       "      <td>1.600000e+01</td>\n",
       "      <td>1.500000e+01</td>\n",
       "    </tr>\n",
       "    <tr>\n",
       "      <th>max</th>\n",
       "      <td>3.421082e+06</td>\n",
       "      <td>3.421083e+06</td>\n",
       "      <td>2.062090e+05</td>\n",
       "      <td>1.000000e+02</td>\n",
       "      <td>6.000000e+00</td>\n",
       "      <td>2.300000e+01</td>\n",
       "      <td>3.000000e+01</td>\n",
       "    </tr>\n",
       "  </tbody>\n",
       "</table>\n",
       "</div>"
      ],
      "text/plain": [
       "         Unnamed: 0      order_id       user_id  order_number  \\\n",
       "count  3.421083e+06  3.421083e+06  3.421083e+06  3.421083e+06   \n",
       "mean   1.710541e+06  1.710542e+06  1.029782e+05  1.715486e+01   \n",
       "std    9.875817e+05  9.875817e+05  5.953372e+04  1.773316e+01   \n",
       "min    0.000000e+00  1.000000e+00  1.000000e+00  1.000000e+00   \n",
       "25%    8.552705e+05  8.552715e+05  5.139400e+04  5.000000e+00   \n",
       "50%    1.710541e+06  1.710542e+06  1.026890e+05  1.100000e+01   \n",
       "75%    2.565812e+06  2.565812e+06  1.543850e+05  2.300000e+01   \n",
       "max    3.421082e+06  3.421083e+06  2.062090e+05  1.000000e+02   \n",
       "\n",
       "       order_day_of_week  order_hour_of_day  days_since_prior_order  \n",
       "count       3.421083e+06       3.421083e+06            3.214874e+06  \n",
       "mean        2.776219e+00       1.345202e+01            1.111484e+01  \n",
       "std         2.046829e+00       4.226088e+00            9.206737e+00  \n",
       "min         0.000000e+00       0.000000e+00            0.000000e+00  \n",
       "25%         1.000000e+00       1.000000e+01            4.000000e+00  \n",
       "50%         3.000000e+00       1.300000e+01            7.000000e+00  \n",
       "75%         5.000000e+00       1.600000e+01            1.500000e+01  \n",
       "max         6.000000e+00       2.300000e+01            3.000000e+01  "
      ]
     },
     "execution_count": 5,
     "metadata": {},
     "output_type": "execute_result"
    }
   ],
   "source": [
    "#Accuracy check of df_ords\n",
    "df_ords.describe()"
   ]
  },
  {
   "cell_type": "code",
   "execution_count": 8,
   "id": "b36a9b41",
   "metadata": {},
   "outputs": [
    {
     "data": {
      "text/plain": [
       "<bound method DataFrame.info of          Unnamed: 0  order_id  user_id  order_number  order_day_of_week  \\\n",
       "0                 0   2539329        1             1                  2   \n",
       "1                 1   2398795        1             2                  3   \n",
       "2                 2    473747        1             3                  3   \n",
       "3                 3   2254736        1             4                  4   \n",
       "4                 4    431534        1             5                  4   \n",
       "...             ...       ...      ...           ...                ...   \n",
       "3421078     3421078   2266710   206209            10                  5   \n",
       "3421079     3421079   1854736   206209            11                  4   \n",
       "3421080     3421080    626363   206209            12                  1   \n",
       "3421081     3421081   2977660   206209            13                  1   \n",
       "3421082     3421082    272231   206209            14                  6   \n",
       "\n",
       "         order_hour_of_day  days_since_prior_order  \n",
       "0                        8                     NaN  \n",
       "1                        7                    15.0  \n",
       "2                       12                    21.0  \n",
       "3                        7                    29.0  \n",
       "4                       15                    28.0  \n",
       "...                    ...                     ...  \n",
       "3421078                 18                    29.0  \n",
       "3421079                 10                    30.0  \n",
       "3421080                 12                    18.0  \n",
       "3421081                 12                     7.0  \n",
       "3421082                 14                    30.0  \n",
       "\n",
       "[3421083 rows x 7 columns]>"
      ]
     },
     "execution_count": 8,
     "metadata": {},
     "output_type": "execute_result"
    }
   ],
   "source": [
    "#I have an unnamed column which is concerning.\n",
    "df_ords.info\n",
    "#I think it's just the index column that pandas assigned?"
   ]
  },
  {
   "cell_type": "code",
   "execution_count": 6,
   "id": "16d8f8ae",
   "metadata": {},
   "outputs": [
    {
     "data": {
      "text/html": [
       "<div>\n",
       "<style scoped>\n",
       "    .dataframe tbody tr th:only-of-type {\n",
       "        vertical-align: middle;\n",
       "    }\n",
       "\n",
       "    .dataframe tbody tr th {\n",
       "        vertical-align: top;\n",
       "    }\n",
       "\n",
       "    .dataframe thead th {\n",
       "        text-align: right;\n",
       "    }\n",
       "</style>\n",
       "<table border=\"1\" class=\"dataframe\">\n",
       "  <thead>\n",
       "    <tr style=\"text-align: right;\">\n",
       "      <th></th>\n",
       "      <th>product_id</th>\n",
       "      <th>aisle_id</th>\n",
       "      <th>department_id</th>\n",
       "      <th>prices</th>\n",
       "    </tr>\n",
       "  </thead>\n",
       "  <tbody>\n",
       "    <tr>\n",
       "      <th>count</th>\n",
       "      <td>49693.000000</td>\n",
       "      <td>49693.000000</td>\n",
       "      <td>49693.000000</td>\n",
       "      <td>49693.000000</td>\n",
       "    </tr>\n",
       "    <tr>\n",
       "      <th>mean</th>\n",
       "      <td>24844.345139</td>\n",
       "      <td>67.770249</td>\n",
       "      <td>11.728433</td>\n",
       "      <td>9.994136</td>\n",
       "    </tr>\n",
       "    <tr>\n",
       "      <th>std</th>\n",
       "      <td>14343.717401</td>\n",
       "      <td>38.316774</td>\n",
       "      <td>5.850282</td>\n",
       "      <td>453.519686</td>\n",
       "    </tr>\n",
       "    <tr>\n",
       "      <th>min</th>\n",
       "      <td>1.000000</td>\n",
       "      <td>1.000000</td>\n",
       "      <td>1.000000</td>\n",
       "      <td>1.000000</td>\n",
       "    </tr>\n",
       "    <tr>\n",
       "      <th>25%</th>\n",
       "      <td>12423.000000</td>\n",
       "      <td>35.000000</td>\n",
       "      <td>7.000000</td>\n",
       "      <td>4.100000</td>\n",
       "    </tr>\n",
       "    <tr>\n",
       "      <th>50%</th>\n",
       "      <td>24845.000000</td>\n",
       "      <td>69.000000</td>\n",
       "      <td>13.000000</td>\n",
       "      <td>7.100000</td>\n",
       "    </tr>\n",
       "    <tr>\n",
       "      <th>75%</th>\n",
       "      <td>37265.000000</td>\n",
       "      <td>100.000000</td>\n",
       "      <td>17.000000</td>\n",
       "      <td>11.200000</td>\n",
       "    </tr>\n",
       "    <tr>\n",
       "      <th>max</th>\n",
       "      <td>49688.000000</td>\n",
       "      <td>134.000000</td>\n",
       "      <td>21.000000</td>\n",
       "      <td>99999.000000</td>\n",
       "    </tr>\n",
       "  </tbody>\n",
       "</table>\n",
       "</div>"
      ],
      "text/plain": [
       "         product_id      aisle_id  department_id        prices\n",
       "count  49693.000000  49693.000000   49693.000000  49693.000000\n",
       "mean   24844.345139     67.770249      11.728433      9.994136\n",
       "std    14343.717401     38.316774       5.850282    453.519686\n",
       "min        1.000000      1.000000       1.000000      1.000000\n",
       "25%    12423.000000     35.000000       7.000000      4.100000\n",
       "50%    24845.000000     69.000000      13.000000      7.100000\n",
       "75%    37265.000000    100.000000      17.000000     11.200000\n",
       "max    49688.000000    134.000000      21.000000  99999.000000"
      ]
     },
     "execution_count": 6,
     "metadata": {},
     "output_type": "execute_result"
    }
   ],
   "source": [
    "#Accuracy check of df_prods\n",
    "df_prods.describe()"
   ]
  },
  {
   "cell_type": "markdown",
   "id": "5e5beb0b",
   "metadata": {},
   "source": [
    "### max price looks like an error. Must be skewing the std. dev. and the mean considerably"
   ]
  },
  {
   "cell_type": "markdown",
   "id": "14f34c28",
   "metadata": {},
   "source": [
    "# 04 Test dataframe for mixed data tpyes"
   ]
  },
  {
   "cell_type": "code",
   "execution_count": 10,
   "id": "3916af6f",
   "metadata": {},
   "outputs": [],
   "source": [
    "# Create a dataframe\n",
    "df_test = pd.DataFrame()"
   ]
  },
  {
   "cell_type": "code",
   "execution_count": 11,
   "id": "6d266079",
   "metadata": {},
   "outputs": [],
   "source": [
    "# Create a mixed type column\n",
    "df_test['mix'] = ['a','b', 1, True]"
   ]
  },
  {
   "cell_type": "code",
   "execution_count": 12,
   "id": "4bd66fe3",
   "metadata": {},
   "outputs": [
    {
     "data": {
      "text/html": [
       "<div>\n",
       "<style scoped>\n",
       "    .dataframe tbody tr th:only-of-type {\n",
       "        vertical-align: middle;\n",
       "    }\n",
       "\n",
       "    .dataframe tbody tr th {\n",
       "        vertical-align: top;\n",
       "    }\n",
       "\n",
       "    .dataframe thead th {\n",
       "        text-align: right;\n",
       "    }\n",
       "</style>\n",
       "<table border=\"1\" class=\"dataframe\">\n",
       "  <thead>\n",
       "    <tr style=\"text-align: right;\">\n",
       "      <th></th>\n",
       "      <th>mix</th>\n",
       "    </tr>\n",
       "  </thead>\n",
       "  <tbody>\n",
       "    <tr>\n",
       "      <th>0</th>\n",
       "      <td>a</td>\n",
       "    </tr>\n",
       "    <tr>\n",
       "      <th>1</th>\n",
       "      <td>b</td>\n",
       "    </tr>\n",
       "    <tr>\n",
       "      <th>2</th>\n",
       "      <td>1</td>\n",
       "    </tr>\n",
       "    <tr>\n",
       "      <th>3</th>\n",
       "      <td>True</td>\n",
       "    </tr>\n",
       "  </tbody>\n",
       "</table>\n",
       "</div>"
      ],
      "text/plain": [
       "    mix\n",
       "0     a\n",
       "1     b\n",
       "2     1\n",
       "3  True"
      ]
     },
     "execution_count": 12,
     "metadata": {},
     "output_type": "execute_result"
    }
   ],
   "source": [
    "df_test.head()"
   ]
  },
  {
   "cell_type": "code",
   "execution_count": 13,
   "id": "46f54700",
   "metadata": {},
   "outputs": [
    {
     "name": "stdout",
     "output_type": "stream",
     "text": [
      "mix\n"
     ]
    }
   ],
   "source": [
    "# Check for mixed types\n",
    "for col in df_test.columns.tolist():\n",
    "  weird = (df_test[[col]].applymap(type) != df_test[[col]].iloc[0].apply(type)).any(axis = 1)\n",
    "  if len (df_test[weird]) > 0:\n",
    "    print (col)"
   ]
  },
  {
   "cell_type": "code",
   "execution_count": 14,
   "id": "8d34ad9a",
   "metadata": {},
   "outputs": [],
   "source": [
    "df_test['mix'] = df_test['mix'].astype('str')"
   ]
  },
  {
   "cell_type": "markdown",
   "id": "c2cb5f67",
   "metadata": {},
   "source": [
    "# 05 Finding Missing values"
   ]
  },
  {
   "cell_type": "code",
   "execution_count": 15,
   "id": "5d62c328",
   "metadata": {},
   "outputs": [
    {
     "data": {
      "text/plain": [
       "product_id        0\n",
       "product_name     16\n",
       "aisle_id          0\n",
       "department_id     0\n",
       "prices            0\n",
       "dtype: int64"
      ]
     },
     "execution_count": 15,
     "metadata": {},
     "output_type": "execute_result"
    }
   ],
   "source": [
    "df_prods.isnull().sum()"
   ]
  },
  {
   "cell_type": "code",
   "execution_count": 16,
   "id": "8ec19014",
   "metadata": {},
   "outputs": [
    {
     "data": {
      "text/html": [
       "<div>\n",
       "<style scoped>\n",
       "    .dataframe tbody tr th:only-of-type {\n",
       "        vertical-align: middle;\n",
       "    }\n",
       "\n",
       "    .dataframe tbody tr th {\n",
       "        vertical-align: top;\n",
       "    }\n",
       "\n",
       "    .dataframe thead th {\n",
       "        text-align: right;\n",
       "    }\n",
       "</style>\n",
       "<table border=\"1\" class=\"dataframe\">\n",
       "  <thead>\n",
       "    <tr style=\"text-align: right;\">\n",
       "      <th></th>\n",
       "      <th>product_id</th>\n",
       "      <th>product_name</th>\n",
       "      <th>aisle_id</th>\n",
       "      <th>department_id</th>\n",
       "      <th>prices</th>\n",
       "    </tr>\n",
       "  </thead>\n",
       "  <tbody>\n",
       "    <tr>\n",
       "      <th>33</th>\n",
       "      <td>34</td>\n",
       "      <td>NaN</td>\n",
       "      <td>121</td>\n",
       "      <td>14</td>\n",
       "      <td>12.2</td>\n",
       "    </tr>\n",
       "    <tr>\n",
       "      <th>68</th>\n",
       "      <td>69</td>\n",
       "      <td>NaN</td>\n",
       "      <td>26</td>\n",
       "      <td>7</td>\n",
       "      <td>11.8</td>\n",
       "    </tr>\n",
       "    <tr>\n",
       "      <th>115</th>\n",
       "      <td>116</td>\n",
       "      <td>NaN</td>\n",
       "      <td>93</td>\n",
       "      <td>3</td>\n",
       "      <td>10.8</td>\n",
       "    </tr>\n",
       "    <tr>\n",
       "      <th>261</th>\n",
       "      <td>262</td>\n",
       "      <td>NaN</td>\n",
       "      <td>110</td>\n",
       "      <td>13</td>\n",
       "      <td>12.1</td>\n",
       "    </tr>\n",
       "    <tr>\n",
       "      <th>525</th>\n",
       "      <td>525</td>\n",
       "      <td>NaN</td>\n",
       "      <td>109</td>\n",
       "      <td>11</td>\n",
       "      <td>1.2</td>\n",
       "    </tr>\n",
       "    <tr>\n",
       "      <th>1511</th>\n",
       "      <td>1511</td>\n",
       "      <td>NaN</td>\n",
       "      <td>84</td>\n",
       "      <td>16</td>\n",
       "      <td>14.3</td>\n",
       "    </tr>\n",
       "    <tr>\n",
       "      <th>1780</th>\n",
       "      <td>1780</td>\n",
       "      <td>NaN</td>\n",
       "      <td>126</td>\n",
       "      <td>11</td>\n",
       "      <td>12.3</td>\n",
       "    </tr>\n",
       "    <tr>\n",
       "      <th>2240</th>\n",
       "      <td>2240</td>\n",
       "      <td>NaN</td>\n",
       "      <td>52</td>\n",
       "      <td>1</td>\n",
       "      <td>14.2</td>\n",
       "    </tr>\n",
       "    <tr>\n",
       "      <th>2586</th>\n",
       "      <td>2586</td>\n",
       "      <td>NaN</td>\n",
       "      <td>104</td>\n",
       "      <td>13</td>\n",
       "      <td>12.4</td>\n",
       "    </tr>\n",
       "    <tr>\n",
       "      <th>3159</th>\n",
       "      <td>3159</td>\n",
       "      <td>NaN</td>\n",
       "      <td>126</td>\n",
       "      <td>11</td>\n",
       "      <td>13.1</td>\n",
       "    </tr>\n",
       "    <tr>\n",
       "      <th>3230</th>\n",
       "      <td>3230</td>\n",
       "      <td>NaN</td>\n",
       "      <td>120</td>\n",
       "      <td>16</td>\n",
       "      <td>14.4</td>\n",
       "    </tr>\n",
       "    <tr>\n",
       "      <th>3736</th>\n",
       "      <td>3736</td>\n",
       "      <td>NaN</td>\n",
       "      <td>41</td>\n",
       "      <td>8</td>\n",
       "      <td>14.8</td>\n",
       "    </tr>\n",
       "    <tr>\n",
       "      <th>4283</th>\n",
       "      <td>4283</td>\n",
       "      <td>NaN</td>\n",
       "      <td>77</td>\n",
       "      <td>7</td>\n",
       "      <td>14.4</td>\n",
       "    </tr>\n",
       "    <tr>\n",
       "      <th>4790</th>\n",
       "      <td>4790</td>\n",
       "      <td>NaN</td>\n",
       "      <td>91</td>\n",
       "      <td>16</td>\n",
       "      <td>14.5</td>\n",
       "    </tr>\n",
       "    <tr>\n",
       "      <th>38187</th>\n",
       "      <td>38183</td>\n",
       "      <td>NaN</td>\n",
       "      <td>39</td>\n",
       "      <td>12</td>\n",
       "      <td>20.9</td>\n",
       "    </tr>\n",
       "    <tr>\n",
       "      <th>40444</th>\n",
       "      <td>40440</td>\n",
       "      <td>NaN</td>\n",
       "      <td>120</td>\n",
       "      <td>16</td>\n",
       "      <td>14.8</td>\n",
       "    </tr>\n",
       "  </tbody>\n",
       "</table>\n",
       "</div>"
      ],
      "text/plain": [
       "       product_id product_name  aisle_id  department_id  prices\n",
       "33             34          NaN       121             14    12.2\n",
       "68             69          NaN        26              7    11.8\n",
       "115           116          NaN        93              3    10.8\n",
       "261           262          NaN       110             13    12.1\n",
       "525           525          NaN       109             11     1.2\n",
       "1511         1511          NaN        84             16    14.3\n",
       "1780         1780          NaN       126             11    12.3\n",
       "2240         2240          NaN        52              1    14.2\n",
       "2586         2586          NaN       104             13    12.4\n",
       "3159         3159          NaN       126             11    13.1\n",
       "3230         3230          NaN       120             16    14.4\n",
       "3736         3736          NaN        41              8    14.8\n",
       "4283         4283          NaN        77              7    14.4\n",
       "4790         4790          NaN        91             16    14.5\n",
       "38187       38183          NaN        39             12    20.9\n",
       "40444       40440          NaN       120             16    14.8"
      ]
     },
     "execution_count": 16,
     "metadata": {},
     "output_type": "execute_result"
    }
   ],
   "source": [
    "# Create subset of missing values to view more detail\n",
    "df_nan = df_prods[df_prods['product_name'].isnull() == True]\n",
    "df_nan"
   ]
  },
  {
   "cell_type": "code",
   "execution_count": 17,
   "id": "0c7b41df",
   "metadata": {},
   "outputs": [
    {
     "data": {
      "text/plain": [
       "(49693, 5)"
      ]
     },
     "execution_count": 17,
     "metadata": {},
     "output_type": "execute_result"
    }
   ],
   "source": [
    "df_prods.shape"
   ]
  },
  {
   "cell_type": "code",
   "execution_count": 18,
   "id": "733fcad8",
   "metadata": {},
   "outputs": [],
   "source": [
    "# Removing missing values (16 out of 49693 is a small proportion so won't alter the data)\n",
    "df_prods_clean = df_prods[df_prods['product_name'].isnull() == False]"
   ]
  },
  {
   "cell_type": "code",
   "execution_count": 19,
   "id": "4a975b36",
   "metadata": {},
   "outputs": [
    {
     "data": {
      "text/plain": [
       "(49677, 5)"
      ]
     },
     "execution_count": 19,
     "metadata": {},
     "output_type": "execute_result"
    }
   ],
   "source": [
    "#Confirming changes have been made and missing records removed \n",
    "df_prods_clean.shape"
   ]
  },
  {
   "cell_type": "markdown",
   "id": "ec5ab547",
   "metadata": {},
   "source": [
    "# 06 Duplicates"
   ]
  },
  {
   "cell_type": "code",
   "execution_count": 20,
   "id": "7c960ec4",
   "metadata": {},
   "outputs": [
    {
     "data": {
      "text/html": [
       "<div>\n",
       "<style scoped>\n",
       "    .dataframe tbody tr th:only-of-type {\n",
       "        vertical-align: middle;\n",
       "    }\n",
       "\n",
       "    .dataframe tbody tr th {\n",
       "        vertical-align: top;\n",
       "    }\n",
       "\n",
       "    .dataframe thead th {\n",
       "        text-align: right;\n",
       "    }\n",
       "</style>\n",
       "<table border=\"1\" class=\"dataframe\">\n",
       "  <thead>\n",
       "    <tr style=\"text-align: right;\">\n",
       "      <th></th>\n",
       "      <th>product_id</th>\n",
       "      <th>product_name</th>\n",
       "      <th>aisle_id</th>\n",
       "      <th>department_id</th>\n",
       "      <th>prices</th>\n",
       "    </tr>\n",
       "  </thead>\n",
       "  <tbody>\n",
       "    <tr>\n",
       "      <th>462</th>\n",
       "      <td>462</td>\n",
       "      <td>Fiber 4g Gummy Dietary Supplement</td>\n",
       "      <td>70</td>\n",
       "      <td>11</td>\n",
       "      <td>4.8</td>\n",
       "    </tr>\n",
       "    <tr>\n",
       "      <th>18459</th>\n",
       "      <td>18458</td>\n",
       "      <td>Ranger IPA</td>\n",
       "      <td>27</td>\n",
       "      <td>5</td>\n",
       "      <td>9.2</td>\n",
       "    </tr>\n",
       "    <tr>\n",
       "      <th>26810</th>\n",
       "      <td>26808</td>\n",
       "      <td>Black House Coffee Roasty Stout Beer</td>\n",
       "      <td>27</td>\n",
       "      <td>5</td>\n",
       "      <td>13.4</td>\n",
       "    </tr>\n",
       "    <tr>\n",
       "      <th>35309</th>\n",
       "      <td>35306</td>\n",
       "      <td>Gluten Free Organic Peanut Butter &amp; Chocolate ...</td>\n",
       "      <td>121</td>\n",
       "      <td>14</td>\n",
       "      <td>6.8</td>\n",
       "    </tr>\n",
       "    <tr>\n",
       "      <th>35495</th>\n",
       "      <td>35491</td>\n",
       "      <td>Adore Forever Body Wash</td>\n",
       "      <td>127</td>\n",
       "      <td>11</td>\n",
       "      <td>9.9</td>\n",
       "    </tr>\n",
       "  </tbody>\n",
       "</table>\n",
       "</div>"
      ],
      "text/plain": [
       "       product_id                                       product_name  \\\n",
       "462           462                  Fiber 4g Gummy Dietary Supplement   \n",
       "18459       18458                                         Ranger IPA   \n",
       "26810       26808               Black House Coffee Roasty Stout Beer   \n",
       "35309       35306  Gluten Free Organic Peanut Butter & Chocolate ...   \n",
       "35495       35491                            Adore Forever Body Wash   \n",
       "\n",
       "       aisle_id  department_id  prices  \n",
       "462          70             11     4.8  \n",
       "18459        27              5     9.2  \n",
       "26810        27              5    13.4  \n",
       "35309       121             14     6.8  \n",
       "35495       127             11     9.9  "
      ]
     },
     "execution_count": 20,
     "metadata": {},
     "output_type": "execute_result"
    }
   ],
   "source": [
    "# Looking for duplicates in df_prods_clean\n",
    "df_dups = df_prods_clean[df_prods_clean.duplicated()]\n",
    "df_dups"
   ]
  },
  {
   "cell_type": "code",
   "execution_count": 21,
   "id": "e3d4fa62",
   "metadata": {},
   "outputs": [],
   "source": [
    "# Removing duplicates\n",
    "df_prods_clean_no_dups = df_prods_clean.drop_duplicates()"
   ]
  },
  {
   "cell_type": "code",
   "execution_count": 22,
   "id": "67ea10cf",
   "metadata": {},
   "outputs": [
    {
     "data": {
      "text/plain": [
       "(49672, 5)"
      ]
     },
     "execution_count": 22,
     "metadata": {},
     "output_type": "execute_result"
    }
   ],
   "source": [
    "df_prods_clean_no_dups.shape"
   ]
  },
  {
   "cell_type": "markdown",
   "id": "fe917ada",
   "metadata": {},
   "source": [
    "# 07 Export new product dataframe"
   ]
  },
  {
   "cell_type": "code",
   "execution_count": 23,
   "id": "dc124e47",
   "metadata": {},
   "outputs": [],
   "source": [
    "# Export df_prods_clean_no_dups as products_checked.csv\n",
    "df_prods_clean_no_dups.to_csv(os.path.join\n",
    "                              (path, '02 Data', 'Prepared Data', 'products_checked.csv'))"
   ]
  },
  {
   "cell_type": "markdown",
   "id": "6fb94cc7",
   "metadata": {},
   "source": [
    "# 08 Ex 4.5 Task Questions"
   ]
  },
  {
   "cell_type": "markdown",
   "id": "806317ed",
   "metadata": {},
   "source": [
    "# Q2 "
   ]
  },
  {
   "cell_type": "markdown",
   "id": "7955ff32",
   "metadata": {},
   "source": [
    "#Q2. Answered in output 6 above. Max price is 99999 which must be an error adn will be skweing the mean and std deviation stats. "
   ]
  },
  {
   "cell_type": "code",
   "execution_count": 26,
   "id": "4d5d0798",
   "metadata": {},
   "outputs": [
    {
     "data": {
      "text/plain": [
       "2.5        470\n",
       "5.3        458\n",
       "6.2        451\n",
       "2.6        447\n",
       "5.4        444\n",
       "          ... \n",
       "15.6         1\n",
       "21.0         1\n",
       "99999.0      1\n",
       "14900.0      1\n",
       "18.3         1\n",
       "Name: prices, Length: 242, dtype: int64"
      ]
     },
     "execution_count": 26,
     "metadata": {},
     "output_type": "execute_result"
    }
   ],
   "source": [
    "# Investigating max price in products\n",
    "df_prods_clean_no_dups['prices'].value_counts()"
   ]
  },
  {
   "cell_type": "code",
   "execution_count": 29,
   "id": "c41b3cb9",
   "metadata": {},
   "outputs": [],
   "source": [
    "# Which products in the dataframe have the highest prices?\n",
    "df_top_prices = df_prods_clean_no_dups[df_prods_clean_no_dups['prices'] > 18.3]"
   ]
  },
  {
   "cell_type": "code",
   "execution_count": 30,
   "id": "f7f4b948",
   "metadata": {},
   "outputs": [
    {
     "data": {
      "text/html": [
       "<div>\n",
       "<style scoped>\n",
       "    .dataframe tbody tr th:only-of-type {\n",
       "        vertical-align: middle;\n",
       "    }\n",
       "\n",
       "    .dataframe tbody tr th {\n",
       "        vertical-align: top;\n",
       "    }\n",
       "\n",
       "    .dataframe thead th {\n",
       "        text-align: right;\n",
       "    }\n",
       "</style>\n",
       "<table border=\"1\" class=\"dataframe\">\n",
       "  <thead>\n",
       "    <tr style=\"text-align: right;\">\n",
       "      <th></th>\n",
       "      <th>product_id</th>\n",
       "      <th>product_name</th>\n",
       "      <th>aisle_id</th>\n",
       "      <th>department_id</th>\n",
       "      <th>prices</th>\n",
       "    </tr>\n",
       "  </thead>\n",
       "  <tbody>\n",
       "    <tr>\n",
       "      <th>39</th>\n",
       "      <td>40</td>\n",
       "      <td>Beef Hot Links Beef Smoked Sausage With Chile ...</td>\n",
       "      <td>106</td>\n",
       "      <td>12</td>\n",
       "      <td>22.5</td>\n",
       "    </tr>\n",
       "    <tr>\n",
       "      <th>83</th>\n",
       "      <td>84</td>\n",
       "      <td>Lamb Shank</td>\n",
       "      <td>7</td>\n",
       "      <td>12</td>\n",
       "      <td>24.3</td>\n",
       "    </tr>\n",
       "    <tr>\n",
       "      <th>174</th>\n",
       "      <td>175</td>\n",
       "      <td>T Bone Steak</td>\n",
       "      <td>122</td>\n",
       "      <td>12</td>\n",
       "      <td>18.6</td>\n",
       "    </tr>\n",
       "    <tr>\n",
       "      <th>193</th>\n",
       "      <td>194</td>\n",
       "      <td>Lamb Rib Chops</td>\n",
       "      <td>122</td>\n",
       "      <td>12</td>\n",
       "      <td>18.9</td>\n",
       "    </tr>\n",
       "    <tr>\n",
       "      <th>304</th>\n",
       "      <td>305</td>\n",
       "      <td>Wild Forest Raw Neem Honey</td>\n",
       "      <td>29</td>\n",
       "      <td>13</td>\n",
       "      <td>20.0</td>\n",
       "    </tr>\n",
       "    <tr>\n",
       "      <th>...</th>\n",
       "      <td>...</td>\n",
       "      <td>...</td>\n",
       "      <td>...</td>\n",
       "      <td>...</td>\n",
       "      <td>...</td>\n",
       "    </tr>\n",
       "    <tr>\n",
       "      <th>48966</th>\n",
       "      <td>48962</td>\n",
       "      <td>Hardwood Smoked Sliced Bacon</td>\n",
       "      <td>106</td>\n",
       "      <td>12</td>\n",
       "      <td>23.1</td>\n",
       "    </tr>\n",
       "    <tr>\n",
       "      <th>49240</th>\n",
       "      <td>49236</td>\n",
       "      <td>80% Lean Ground Beef</td>\n",
       "      <td>122</td>\n",
       "      <td>12</td>\n",
       "      <td>20.7</td>\n",
       "    </tr>\n",
       "    <tr>\n",
       "      <th>49440</th>\n",
       "      <td>49436</td>\n",
       "      <td>Imitation Crab Flakes</td>\n",
       "      <td>15</td>\n",
       "      <td>12</td>\n",
       "      <td>23.5</td>\n",
       "    </tr>\n",
       "    <tr>\n",
       "      <th>49655</th>\n",
       "      <td>49651</td>\n",
       "      <td>Beef Brisket</td>\n",
       "      <td>122</td>\n",
       "      <td>12</td>\n",
       "      <td>20.7</td>\n",
       "    </tr>\n",
       "    <tr>\n",
       "      <th>49674</th>\n",
       "      <td>49670</td>\n",
       "      <td>Beef Summer Sausage</td>\n",
       "      <td>106</td>\n",
       "      <td>12</td>\n",
       "      <td>19.2</td>\n",
       "    </tr>\n",
       "  </tbody>\n",
       "</table>\n",
       "<p>382 rows × 5 columns</p>\n",
       "</div>"
      ],
      "text/plain": [
       "       product_id                                       product_name  \\\n",
       "39             40  Beef Hot Links Beef Smoked Sausage With Chile ...   \n",
       "83             84                                         Lamb Shank   \n",
       "174           175                                       T Bone Steak   \n",
       "193           194                                     Lamb Rib Chops   \n",
       "304           305                         Wild Forest Raw Neem Honey   \n",
       "...           ...                                                ...   \n",
       "48966       48962                       Hardwood Smoked Sliced Bacon   \n",
       "49240       49236                               80% Lean Ground Beef   \n",
       "49440       49436                              Imitation Crab Flakes   \n",
       "49655       49651                                       Beef Brisket   \n",
       "49674       49670                                Beef Summer Sausage   \n",
       "\n",
       "       aisle_id  department_id  prices  \n",
       "39          106             12    22.5  \n",
       "83            7             12    24.3  \n",
       "174         122             12    18.6  \n",
       "193         122             12    18.9  \n",
       "304          29             13    20.0  \n",
       "...         ...            ...     ...  \n",
       "48966       106             12    23.1  \n",
       "49240       122             12    20.7  \n",
       "49440        15             12    23.5  \n",
       "49655       122             12    20.7  \n",
       "49674       106             12    19.2  \n",
       "\n",
       "[382 rows x 5 columns]"
      ]
     },
     "execution_count": 30,
     "metadata": {},
     "output_type": "execute_result"
    }
   ],
   "source": [
    "df_top_prices"
   ]
  },
  {
   "cell_type": "code",
   "execution_count": 33,
   "id": "a0fa55a1",
   "metadata": {},
   "outputs": [
    {
     "data": {
      "text/plain": [
       "7.1"
      ]
     },
     "execution_count": 33,
     "metadata": {},
     "output_type": "execute_result"
    }
   ],
   "source": [
    "# What is the median price?\n",
    "df_prods_clean_no_dups['prices'].median()"
   ]
  },
  {
   "cell_type": "code",
   "execution_count": 34,
   "id": "17b2cb30",
   "metadata": {},
   "outputs": [],
   "source": [
    "# Which products in the dataframe have the highest prices?\n",
    "df_top_prices = df_prods_clean_no_dups[df_prods_clean_no_dups['prices'] > 100]"
   ]
  },
  {
   "cell_type": "code",
   "execution_count": 35,
   "id": "49cd3ef2",
   "metadata": {},
   "outputs": [
    {
     "data": {
      "text/html": [
       "<div>\n",
       "<style scoped>\n",
       "    .dataframe tbody tr th:only-of-type {\n",
       "        vertical-align: middle;\n",
       "    }\n",
       "\n",
       "    .dataframe tbody tr th {\n",
       "        vertical-align: top;\n",
       "    }\n",
       "\n",
       "    .dataframe thead th {\n",
       "        text-align: right;\n",
       "    }\n",
       "</style>\n",
       "<table border=\"1\" class=\"dataframe\">\n",
       "  <thead>\n",
       "    <tr style=\"text-align: right;\">\n",
       "      <th></th>\n",
       "      <th>product_id</th>\n",
       "      <th>product_name</th>\n",
       "      <th>aisle_id</th>\n",
       "      <th>department_id</th>\n",
       "      <th>prices</th>\n",
       "    </tr>\n",
       "  </thead>\n",
       "  <tbody>\n",
       "    <tr>\n",
       "      <th>21554</th>\n",
       "      <td>21553</td>\n",
       "      <td>Lowfat 2% Milkfat Cottage Cheese</td>\n",
       "      <td>108</td>\n",
       "      <td>16</td>\n",
       "      <td>14900.0</td>\n",
       "    </tr>\n",
       "    <tr>\n",
       "      <th>33666</th>\n",
       "      <td>33664</td>\n",
       "      <td>2 % Reduced Fat  Milk</td>\n",
       "      <td>84</td>\n",
       "      <td>16</td>\n",
       "      <td>99999.0</td>\n",
       "    </tr>\n",
       "  </tbody>\n",
       "</table>\n",
       "</div>"
      ],
      "text/plain": [
       "       product_id                      product_name  aisle_id  department_id  \\\n",
       "21554       21553  Lowfat 2% Milkfat Cottage Cheese       108             16   \n",
       "33666       33664             2 % Reduced Fat  Milk        84             16   \n",
       "\n",
       "        prices  \n",
       "21554  14900.0  \n",
       "33666  99999.0  "
      ]
     },
     "execution_count": 35,
     "metadata": {},
     "output_type": "execute_result"
    }
   ],
   "source": [
    "df_top_prices"
   ]
  },
  {
   "cell_type": "markdown",
   "id": "453d72fe",
   "metadata": {},
   "source": [
    "#Q2 next steps\n",
    "Both records are priced inappropriately for what they are. Using common sense, I would impute the cheese item to 1.49. \n",
    "I'd like to look at the other milk items before imputing this second item."
   ]
  },
  {
   "cell_type": "code",
   "execution_count": 49,
   "id": "6e4e3079",
   "metadata": {},
   "outputs": [],
   "source": [
    "#Looking at milk products to determine correct price\n",
    "df_milk = []\n",
    "for products in df_prods_clean_no_dups['product_name']:\n",
    "    if 'milk' in products:\n",
    "        df_milk.append(products)\n"
   ]
  },
  {
   "cell_type": "code",
   "execution_count": 50,
   "id": "3f587e3e",
   "metadata": {},
   "outputs": [
    {
     "data": {
      "text/plain": [
       "['Pancake Mix, Buttermilk',\n",
       " 'Very Vanilla Soymilk',\n",
       " 'Vanilla Almond Cashew Almondmilk Cashewmilk Blend',\n",
       " 'Organic Whole Grassmilk Milk',\n",
       " 'Sweet Cream Buttermilk Powder',\n",
       " 'Complete Funfetti Buttermilk Pancake & Waffle Mix',\n",
       " 'Shake n Pour Buttermilk Pancake Mix',\n",
       " 'Old Fashioned Buttermilk Ranch Salad Dressing',\n",
       " 'Buttermilk Biscuits',\n",
       " 'Plain Soymilk Creamer',\n",
       " 'Light Buttermilk Ranch Salad Dressing',\n",
       " 'BoomChocoBoom Gluten Free Ricemilk Crunch Bar',\n",
       " 'West Soymilk',\n",
       " 'Almond Cashew Unsweetened Almondmilk Cashewmilk Blend',\n",
       " 'Pumpkin Spice Latte Iced Coffee Pure Cold Brew Coffee With Almondmilk',\n",
       " 'Flaxmilk 1200 mg Omega-3 Vanilla',\n",
       " 'Organic Chocolate Almondmilk Pudding',\n",
       " 'Toasted Coconut Almondmilk Blend',\n",
       " 'Dark Chocolate Almondmilk',\n",
       " 'Very Vanilla Soymilk Singles',\n",
       " 'Buttermilk Ranch Pretzel Pieces',\n",
       " 'Almondmilk, Pure, Chocolate Protein',\n",
       " 'Organic Vanilla Soymilk',\n",
       " 'Jumbos Buttermilk Biscuits',\n",
       " 'Turtle Trails Soymilk Frozen Dessert',\n",
       " 'Vanilla Soymilk',\n",
       " 'Plain Soymilk',\n",
       " 'Black And White Cold Brew Coffee With Almondmilk',\n",
       " 'Almondmilk, Reduced Sugar, Original',\n",
       " 'The Original Ranch Buttermilk Recipe Salad Dressing And Seasoning Mix',\n",
       " 'Cultured Buttermilk',\n",
       " 'Organic Unsweetened Creamy Cashewmilk',\n",
       " 'Organic Chocolate Creamy Cashewmilk',\n",
       " 'Whole Cultured Buttermilk',\n",
       " 'With 32mg DHA Omega-3 Soymilk',\n",
       " 'Soymilk Nog',\n",
       " 'Buttermilk & Honey Pancake and Waffle Mix',\n",
       " \"Grand's Flaky Layers Buttermilk Biscuits\",\n",
       " 'Buttermilk Biscuits Value Pack',\n",
       " 'Chewy Caramel in milk Chocolate',\n",
       " 'Organic 2% Buttermilk',\n",
       " 'Vanilla Coconutmilk',\n",
       " 'Soothingly Sensitive Aloe & Buttermilk Body Lotion',\n",
       " 'Grands! Flaky Layers Buttermilk Biscuits',\n",
       " 'Chocolate Velvet Soymilk Frozen Dessert',\n",
       " 'Buttermilk Ranch Dressing & Dip',\n",
       " 'Chocolate Hempmilk',\n",
       " 'Organic Sweetened Creamy Cashewmilk',\n",
       " 'Buttermilk Pancakes',\n",
       " 'Cacao Almondmilk',\n",
       " 'Oatmilk Calendula Moisturizing Baby Shampoo & Wash',\n",
       " 'Light & Fluffy Buttermilk Complete Pancake Mix Family Size',\n",
       " 'Cocoa Noir Cold Brew Coffee With Almondmilk',\n",
       " 'Organic Unsweetened Plain Soymilk',\n",
       " 'Buttermilk Pancake Mix',\n",
       " 'Grands! Jr. Golden Layers Buttermilk Biscuits',\n",
       " 'Original Organic Soymilk',\n",
       " 'Almondmilk Creamer, Vanilla',\n",
       " 'Grands Buttermilk Biscuits',\n",
       " 'Original Almondmilk',\n",
       " 'Unsweetened Soymilk',\n",
       " 'Original Almondmilk Non Dairy Milk Alternative',\n",
       " 'Grass milk Raw Cheddar Cheese',\n",
       " 'Pure  Vanilla Almondmilk',\n",
       " 'Buttermilk Protein Pancake and Baking Mix',\n",
       " 'Boom Choco Boom Ricemilk Chocolate Bar',\n",
       " 'Chocolate Soymilk',\n",
       " 'Cultured Buttermilk Blend for Cooking and Baking',\n",
       " 'Grassmilk 2% Reduced Fat Milk',\n",
       " 'Buttermilk Pancake & Waffle Mix',\n",
       " 'Milk Chug Cultured Lowfat Buttermilk',\n",
       " 'Caramel Almondmilk Creamer',\n",
       " 'Simply Buttermilk Pancake & Waffle Mix',\n",
       " 'Jaipur Karhi Organic Potato Dumplings in Spicy Buttermilk',\n",
       " 'Vanilla Unsweetened Cashewmilk',\n",
       " 'Moisturizing Baby Bubble Bath Oatmilk &  Calendula',\n",
       " 'Buttermilk Pancakes 8 Count',\n",
       " 'Organic Vanilla Grassmilk Yogurt',\n",
       " 'Creamy milk chocolate with crisped rice. Chocolate Candy bar',\n",
       " 'Vanilla Almondmilk',\n",
       " 'Organic Original Plain Soymilk',\n",
       " 'Unsweetened Vanilla Almondmilk',\n",
       " 'Unsweetened Almondmilk',\n",
       " 'Cultured Low Fat Buttermilk',\n",
       " 'Almondmilk Reduced Sugar Original Non-Dairy Beverage',\n",
       " 'Buttermilk Biscuit',\n",
       " 'Buttermilk, Cultured Low Fat',\n",
       " 'Buttermilk',\n",
       " 'Vanilla Hempmilk',\n",
       " 'Organic Grassmilk Yogurt Wild Blueberry',\n",
       " 'Light Chocolate Soymilk',\n",
       " 'Dairy Free Soymilk Neapolitan Non-Dairy Frozen Dessert',\n",
       " 'Plain Organic Grassmilk Yogurt Cup',\n",
       " 'Frontier Buttermilk and Honey Flapjack and Waffle Mix',\n",
       " 'Light Original Soymilk',\n",
       " 'Purely Vanilla Soymilk Non-Dairy Frozen Dessert',\n",
       " 'Ginger Turmeric Spice Almondmilk',\n",
       " 'Buttermilk Complete Pancake & Waffle Mix',\n",
       " 'Jumbos Flaky Buttermilk Biscuits',\n",
       " 'Cultured Lowfat Buttermilk',\n",
       " 'Blueberry Blended Cultured Soymilk',\n",
       " 'Soymilk Drink, Low Fat, Plain',\n",
       " 'Bread, Country Buttermilk',\n",
       " 'Buttermilk Ranch Dressing',\n",
       " 'Peachy Almondmilk Juice Smoothie',\n",
       " 'Buttermilk Biscuit Mix',\n",
       " 'Organic Carob Soymilk',\n",
       " 'Organic Soymilk Plain',\n",
       " 'Soymilk Non Dairy Frozen Dessert Gluten Free Cookie Dough',\n",
       " 'Plain Icelandic Style Skyr 4% milkfat Yogurt',\n",
       " 'Brownberry Country Buttermilk Sandwich Bread',\n",
       " 'Original Coconut Hempmilk',\n",
       " 'Buttermilk Complete Pancake Mix',\n",
       " 'Original Pure Almondmilk',\n",
       " 'Reduced Sugar Vanilla Almondmilk Non-Dairy Beverage',\n",
       " 'Soymilk, Classic, Vanilla',\n",
       " \"Cultured 'Lowfat Buttermilk\",\n",
       " 'Drews Buttermilk Ranch Dressing',\n",
       " 'Buttermilk Waffles',\n",
       " 'Buttermilk Crumpets',\n",
       " 'Grands! Jr Golden Layers Buttermilk Biscuits',\n",
       " 'Dairy Free Coconut Almondmilk Blend',\n",
       " 'Whole Grain Buttermilk Pancake & Waffle Mix',\n",
       " '1% Milkfat Low Fat Buttermilk',\n",
       " 'Bulgarian Cultured Buttermilk',\n",
       " 'Light Vanilla Soymilk',\n",
       " 'Matcha Almondmilk',\n",
       " 'Soymilk Vanilla Value Size',\n",
       " 'Dairy Free Original Coconutmilk Coffee Creamer',\n",
       " 'Eggo Buttermilk Waffles',\n",
       " 'Original Unsweetened Almondmilk',\n",
       " 'Cultured 1% Lowfat Buttermilk',\n",
       " 'Chocolate Peppermint Stick Soymilk',\n",
       " 'Blueberry Banana Almondmilk',\n",
       " 'Grands! Homestyle Buttermilk Biscuits',\n",
       " 'Issimo Mochaccino Iced Coffee Drink with Domori cocoa and lowfat milk',\n",
       " 'Organic Buttermilk Pancake Mix',\n",
       " 'Original Soymilk',\n",
       " 'Whole Wheat Buttermilk Pancake Mix',\n",
       " 'Organic Soymilk Original Value Size',\n",
       " 'Organic Original Soymilk',\n",
       " 'Grassmilk Organic Fat Free Milk',\n",
       " 'Grands Southern Homestyle Buttermilk Biscuits',\n",
       " 'Grands! Southern Homestyle Buttermilk Biscuits',\n",
       " 'Almondmilk Vanilla Lactose Free & Soy Free',\n",
       " '1% Lowfat Cultured Buttermilk',\n",
       " 'Almond Breeze Reduced Sugar Vanilla Almondmilk',\n",
       " 'Eggo Buttermilk Pancakes',\n",
       " 'Soymilk, Vanilla',\n",
       " 'Organic Creamy Cashewmilk',\n",
       " 'Sweet Cream Buttermilk',\n",
       " 'Enriched Unsweetened Quinoamilk Beverage',\n",
       " 'Soymilk Original Classic',\n",
       " 'Unsweetened Vanilla Almondmilk Non Dairy Milk Alternative',\n",
       " 'Glazed Buttermilk Doughnuts',\n",
       " 'All Natural Fresh Buttermilk Ranch Dressing Marinade',\n",
       " 'Grassmilk Raw Sharp Cheddar Cheese',\n",
       " 'Dairy Free Soymilk Mocha Fudge Non-Dairy Frozen Dessert',\n",
       " 'Buttermilk Mini Pancakes',\n",
       " 'Low Fat Cultured Buttermilk',\n",
       " 'Vanilla Cultured Almondmilk',\n",
       " 'Natural Buttermilk Pancake & Waffle Mix',\n",
       " 'Seriousmilk Classic 39% Milk Chocolate Bar',\n",
       " 'Pure Unsweetened Cashewmilk',\n",
       " 'Soap, Buttermilk',\n",
       " 'Mckenzie Farms Buttermilk',\n",
       " 'Unsweetened Coconutmilk',\n",
       " 'Breastmilk Storage Bags',\n",
       " 'Corn baked with skim milk and eggs Corn Souffle',\n",
       " 'Original Enriched Soymilk',\n",
       " 'Light and Fluffy Buttermilk Pancake Mix',\n",
       " 'Gluten Free Buttermilk Pancake Mix',\n",
       " \"Shake 'N Pour Buttermilk Pancake Mix\"]"
      ]
     },
     "execution_count": 50,
     "metadata": {},
     "output_type": "execute_result"
    }
   ],
   "source": [
    "df_milk"
   ]
  },
  {
   "cell_type": "code",
   "execution_count": 57,
   "id": "c3dd84b6",
   "metadata": {},
   "outputs": [
    {
     "name": "stdout",
     "output_type": "stream",
     "text": [
      "None\n"
     ]
    }
   ],
   "source": [
    "# Half way there! I'll look up the 'Organic Whole Grassmilk Milk' and see what price it's listed at\n",
    "print(df_prods_clean_no_dups['prices'].get('Organic Whole Grassmilk Milk'))"
   ]
  },
  {
   "cell_type": "markdown",
   "id": "b10e19a7",
   "metadata": {},
   "source": [
    "#Hmmmm, this hasn't gone to plan... I'm also not sure how to overwrite a record yet anyway, so I'll move on for now! "
   ]
  },
  {
   "cell_type": "markdown",
   "id": "c5d75fe4",
   "metadata": {},
   "source": [
    "# Q3"
   ]
  },
  {
   "cell_type": "code",
   "execution_count": 58,
   "id": "3bbb4748",
   "metadata": {},
   "outputs": [],
   "source": [
    "# Checking for mixed data in df_ords\n",
    "for col in df_ords.columns.tolist():\n",
    "  weird = (df_ords[[col]].applymap(type) != df_ords[[col]].iloc[0].apply(type)).any(axis = 1)\n",
    "  if len (df_ords[weird]) > 0:\n",
    "    print (col)"
   ]
  },
  {
   "cell_type": "code",
   "execution_count": null,
   "id": "4afe9b8e",
   "metadata": {},
   "outputs": [],
   "source": [
    "#No output was returned, which means there are no mixed data columns in this dataframe"
   ]
  },
  {
   "cell_type": "code",
   "execution_count": 59,
   "id": "8c2e9dae",
   "metadata": {},
   "outputs": [
    {
     "data": {
      "text/plain": [
       "Unnamed: 0                  int64\n",
       "order_id                    int64\n",
       "user_id                     int64\n",
       "order_number                int64\n",
       "order_day_of_week           int64\n",
       "order_hour_of_day           int64\n",
       "days_since_prior_order    float64\n",
       "dtype: object"
      ]
     },
     "execution_count": 59,
     "metadata": {},
     "output_type": "execute_result"
    }
   ],
   "source": [
    "df_ords.dtypes #Double checking data types in df_ords\n",
    "# if one fo the id columns were containing mixed data types, I would convert them to string - \n",
    "# df_ords['order_id'] = df_ords['order_id'] astype ('Str')"
   ]
  },
  {
   "cell_type": "markdown",
   "id": "ac90935b",
   "metadata": {},
   "source": [
    "# Q5"
   ]
  },
  {
   "cell_type": "code",
   "execution_count": 61,
   "id": "1bc24121",
   "metadata": {},
   "outputs": [
    {
     "data": {
      "text/plain": [
       "Unnamed: 0                     0\n",
       "order_id                       0\n",
       "user_id                        0\n",
       "order_number                   0\n",
       "order_day_of_week              0\n",
       "order_hour_of_day              0\n",
       "days_since_prior_order    206209\n",
       "dtype: int64"
      ]
     },
     "execution_count": 61,
     "metadata": {},
     "output_type": "execute_result"
    }
   ],
   "source": [
    "# Checking for missing values in df_ords\n",
    "df_ords.isnull().sum()"
   ]
  },
  {
   "cell_type": "markdown",
   "id": "8eeba6d8",
   "metadata": {},
   "source": [
    "# Q6 \n",
    "There are 206,209 missing values in the days_since_prior_order. Due to the nature of this record, you'd expect this to be the case as every single customer will place their first order, making the record in this column always null. \n",
    "I would create a new variable, acting as a flag to indicate 'new_customer'. You could then look at how many are repeat customers whcih would be an interesting insight"
   ]
  },
  {
   "cell_type": "markdown",
   "id": "7cb7e9e9",
   "metadata": {},
   "source": [
    "# Q7"
   ]
  },
  {
   "cell_type": "code",
   "execution_count": 62,
   "id": "211f168d",
   "metadata": {},
   "outputs": [],
   "source": [
    "#Checking for duplicate records in df_ords\n",
    "df_ords_dups = df_ords[df_ords.duplicated()] # Checks for 'full duplicates'"
   ]
  },
  {
   "cell_type": "code",
   "execution_count": 64,
   "id": "f049fcc8",
   "metadata": {},
   "outputs": [
    {
     "data": {
      "text/html": [
       "<div>\n",
       "<style scoped>\n",
       "    .dataframe tbody tr th:only-of-type {\n",
       "        vertical-align: middle;\n",
       "    }\n",
       "\n",
       "    .dataframe tbody tr th {\n",
       "        vertical-align: top;\n",
       "    }\n",
       "\n",
       "    .dataframe thead th {\n",
       "        text-align: right;\n",
       "    }\n",
       "</style>\n",
       "<table border=\"1\" class=\"dataframe\">\n",
       "  <thead>\n",
       "    <tr style=\"text-align: right;\">\n",
       "      <th></th>\n",
       "      <th>Unnamed: 0</th>\n",
       "      <th>order_id</th>\n",
       "      <th>user_id</th>\n",
       "      <th>order_number</th>\n",
       "      <th>order_day_of_week</th>\n",
       "      <th>order_hour_of_day</th>\n",
       "      <th>days_since_prior_order</th>\n",
       "    </tr>\n",
       "  </thead>\n",
       "  <tbody>\n",
       "  </tbody>\n",
       "</table>\n",
       "</div>"
      ],
      "text/plain": [
       "Empty DataFrame\n",
       "Columns: [Unnamed: 0, order_id, user_id, order_number, order_day_of_week, order_hour_of_day, days_since_prior_order]\n",
       "Index: []"
      ]
     },
     "execution_count": 64,
     "metadata": {},
     "output_type": "execute_result"
    }
   ],
   "source": [
    "df_ords_dups"
   ]
  },
  {
   "cell_type": "code",
   "execution_count": 69,
   "id": "58f37f65",
   "metadata": {},
   "outputs": [],
   "source": [
    "# There are no full duplicates in the orders dataframe. If there had been, I'd have carefully considered if they were okay to remove and then used - \n",
    "# drop_duplicates() "
   ]
  },
  {
   "cell_type": "markdown",
   "id": "3dd8d002",
   "metadata": {},
   "source": [
    "# Export dataframes"
   ]
  },
  {
   "cell_type": "code",
   "execution_count": 71,
   "id": "0adb1fa2",
   "metadata": {},
   "outputs": [],
   "source": [
    "# Export df_prods_clean_no_dups as products_checked.csv\n",
    "df_prods_clean_no_dups.to_csv(os.path.join\n",
    "                              (path, '02 Data', 'Prepared Data', 'products_checked.csv'))"
   ]
  },
  {
   "cell_type": "code",
   "execution_count": 72,
   "id": "a501a10c",
   "metadata": {},
   "outputs": [],
   "source": [
    "# Export df_ords as orders_checked.csv\n",
    "df_ords.to_csv(os.path.join\n",
    "                (path, '02 Data', 'Prepared Data', 'orders_checked.csv'))"
   ]
  },
  {
   "cell_type": "code",
   "execution_count": null,
   "id": "b7e487ff",
   "metadata": {},
   "outputs": [],
   "source": []
  }
 ],
 "metadata": {
  "kernelspec": {
   "display_name": "Python 3 (ipykernel)",
   "language": "python",
   "name": "python3"
  },
  "language_info": {
   "codemirror_mode": {
    "name": "ipython",
    "version": 3
   },
   "file_extension": ".py",
   "mimetype": "text/x-python",
   "name": "python",
   "nbconvert_exporter": "python",
   "pygments_lexer": "ipython3",
   "version": "3.9.7"
  }
 },
 "nbformat": 4,
 "nbformat_minor": 5
}
