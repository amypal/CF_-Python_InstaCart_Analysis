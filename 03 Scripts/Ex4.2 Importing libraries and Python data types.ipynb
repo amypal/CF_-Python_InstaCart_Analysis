{
 "cells": [
  {
   "cell_type": "markdown",
   "id": "ace28fb1",
   "metadata": {},
   "source": [
    "# Ex 4.2 InstaCart Project\n",
    "\n",
    "## Importing Libraries and Python data types\n",
    "\n",
    "### Contents\n",
    "- 1. Import libraries\n",
    "- 2. Exploring data types\n",
    "- 3. Task Questions\n",
    "\n",
    "### 01. Importing libraries"
   ]
  },
  {
   "cell_type": "code",
   "execution_count": 1,
   "id": "a3a99886",
   "metadata": {},
   "outputs": [],
   "source": [
    "# Import libraries\n",
    "import pandas as pd\n",
    "import numpy as np\n",
    "import os\n"
   ]
  },
  {
   "cell_type": "markdown",
   "id": "1957755a",
   "metadata": {},
   "source": [
    "### 02. Data Types"
   ]
  },
  {
   "cell_type": "code",
   "execution_count": 2,
   "id": "a4e21f4b",
   "metadata": {},
   "outputs": [],
   "source": [
    "x = 2"
   ]
  },
  {
   "cell_type": "code",
   "execution_count": 3,
   "id": "ad822134",
   "metadata": {},
   "outputs": [
    {
     "data": {
      "text/plain": [
       "2"
      ]
     },
     "execution_count": 3,
     "metadata": {},
     "output_type": "execute_result"
    }
   ],
   "source": [
    "x"
   ]
  },
  {
   "cell_type": "code",
   "execution_count": 4,
   "id": "d197bed8",
   "metadata": {},
   "outputs": [
    {
     "name": "stdout",
     "output_type": "stream",
     "text": [
      "2\n"
     ]
    }
   ],
   "source": [
    "print(x)"
   ]
  },
  {
   "cell_type": "code",
   "execution_count": 5,
   "id": "529f0f83",
   "metadata": {},
   "outputs": [
    {
     "data": {
      "text/plain": [
       "int"
      ]
     },
     "execution_count": 5,
     "metadata": {},
     "output_type": "execute_result"
    }
   ],
   "source": [
    "type(x)"
   ]
  },
  {
   "cell_type": "code",
   "execution_count": 6,
   "id": "acb82d57",
   "metadata": {},
   "outputs": [],
   "source": [
    "y = 5.768"
   ]
  },
  {
   "cell_type": "code",
   "execution_count": 7,
   "id": "c74d3af1",
   "metadata": {},
   "outputs": [
    {
     "data": {
      "text/plain": [
       "float"
      ]
     },
     "execution_count": 7,
     "metadata": {},
     "output_type": "execute_result"
    }
   ],
   "source": [
    "type(y)"
   ]
  },
  {
   "cell_type": "code",
   "execution_count": 8,
   "id": "ff8afb4f",
   "metadata": {},
   "outputs": [],
   "source": [
    "z = 'Brazil'"
   ]
  },
  {
   "cell_type": "code",
   "execution_count": 9,
   "id": "892c2687",
   "metadata": {},
   "outputs": [
    {
     "data": {
      "text/plain": [
       "str"
      ]
     },
     "execution_count": 9,
     "metadata": {},
     "output_type": "execute_result"
    }
   ],
   "source": [
    "type(z)"
   ]
  },
  {
   "cell_type": "code",
   "execution_count": 10,
   "id": "97c53b9d",
   "metadata": {},
   "outputs": [
    {
     "data": {
      "text/plain": [
       "str"
      ]
     },
     "execution_count": 10,
     "metadata": {},
     "output_type": "execute_result"
    }
   ],
   "source": [
    "type('Brazil')"
   ]
  },
  {
   "cell_type": "code",
   "execution_count": 11,
   "id": "a1847d0d",
   "metadata": {},
   "outputs": [
    {
     "ename": "NameError",
     "evalue": "name 'TYPE' is not defined",
     "output_type": "error",
     "traceback": [
      "\u001b[0;31m---------------------------------------------------------------------------\u001b[0m",
      "\u001b[0;31mNameError\u001b[0m                                 Traceback (most recent call last)",
      "\u001b[0;32m/var/folders/ms/r3vjc_697bj9f824l9czk1h00000gp/T/ipykernel_5970/3829040023.py\u001b[0m in \u001b[0;36m<module>\u001b[0;34m\u001b[0m\n\u001b[0;32m----> 1\u001b[0;31m \u001b[0mTYPE\u001b[0m\u001b[0;34m(\u001b[0m\u001b[0mTRUE\u001b[0m\u001b[0;34m)\u001b[0m\u001b[0;34m\u001b[0m\u001b[0;34m\u001b[0m\u001b[0m\n\u001b[0m",
      "\u001b[0;31mNameError\u001b[0m: name 'TYPE' is not defined"
     ]
    }
   ],
   "source": [
    "TYPE(TRUE)"
   ]
  },
  {
   "cell_type": "code",
   "execution_count": 12,
   "id": "599319d8",
   "metadata": {},
   "outputs": [
    {
     "ename": "NameError",
     "evalue": "name 'TYPE' is not defined",
     "output_type": "error",
     "traceback": [
      "\u001b[0;31m---------------------------------------------------------------------------\u001b[0m",
      "\u001b[0;31mNameError\u001b[0m                                 Traceback (most recent call last)",
      "\u001b[0;32m/var/folders/ms/r3vjc_697bj9f824l9czk1h00000gp/T/ipykernel_5970/4042418776.py\u001b[0m in \u001b[0;36m<module>\u001b[0;34m\u001b[0m\n\u001b[0;32m----> 1\u001b[0;31m \u001b[0mTYPE\u001b[0m\u001b[0;34m(\u001b[0m\u001b[0mfalse\u001b[0m\u001b[0;34m)\u001b[0m\u001b[0;34m\u001b[0m\u001b[0;34m\u001b[0m\u001b[0m\n\u001b[0m",
      "\u001b[0;31mNameError\u001b[0m: name 'TYPE' is not defined"
     ]
    }
   ],
   "source": [
    "TYPE(false)"
   ]
  },
  {
   "cell_type": "code",
   "execution_count": 13,
   "id": "5a54eff1",
   "metadata": {},
   "outputs": [
    {
     "ename": "NameError",
     "evalue": "name 'true' is not defined",
     "output_type": "error",
     "traceback": [
      "\u001b[0;31m---------------------------------------------------------------------------\u001b[0m",
      "\u001b[0;31mNameError\u001b[0m                                 Traceback (most recent call last)",
      "\u001b[0;32m/var/folders/ms/r3vjc_697bj9f824l9czk1h00000gp/T/ipykernel_5970/1822790664.py\u001b[0m in \u001b[0;36m<module>\u001b[0;34m\u001b[0m\n\u001b[0;32m----> 1\u001b[0;31m \u001b[0mtype\u001b[0m\u001b[0;34m(\u001b[0m\u001b[0mtrue\u001b[0m\u001b[0;34m)\u001b[0m\u001b[0;34m\u001b[0m\u001b[0;34m\u001b[0m\u001b[0m\n\u001b[0m",
      "\u001b[0;31mNameError\u001b[0m: name 'true' is not defined"
     ]
    }
   ],
   "source": [
    "type(true)"
   ]
  },
  {
   "cell_type": "code",
   "execution_count": 14,
   "id": "53b47619",
   "metadata": {},
   "outputs": [
    {
     "data": {
      "text/plain": [
       "bool"
      ]
     },
     "execution_count": 14,
     "metadata": {},
     "output_type": "execute_result"
    }
   ],
   "source": [
    "type(True)"
   ]
  },
  {
   "cell_type": "code",
   "execution_count": 15,
   "id": "4ae9582e",
   "metadata": {},
   "outputs": [
    {
     "data": {
      "text/plain": [
       "bool"
      ]
     },
     "execution_count": 15,
     "metadata": {},
     "output_type": "execute_result"
    }
   ],
   "source": [
    "type(False)"
   ]
  },
  {
   "cell_type": "code",
   "execution_count": 16,
   "id": "b98d745d",
   "metadata": {},
   "outputs": [
    {
     "data": {
      "text/plain": [
       "False"
      ]
     },
     "execution_count": 16,
     "metadata": {},
     "output_type": "execute_result"
    }
   ],
   "source": [
    "x==y"
   ]
  },
  {
   "cell_type": "code",
   "execution_count": 17,
   "id": "e3170811",
   "metadata": {},
   "outputs": [
    {
     "data": {
      "text/plain": [
       "True"
      ]
     },
     "execution_count": 17,
     "metadata": {},
     "output_type": "execute_result"
    }
   ],
   "source": [
    "x==x"
   ]
  },
  {
   "cell_type": "markdown",
   "id": "8b1d11bb",
   "metadata": {},
   "source": [
    "## 03. Task questions \n",
    "\n",
    "### Practise basic coding"
   ]
  },
  {
   "cell_type": "markdown",
   "id": "962d3e27",
   "metadata": {},
   "source": [
    "### Q7 Code 3 different wayas of reaching 100"
   ]
  },
  {
   "cell_type": "code",
   "execution_count": 18,
   "id": "52a858f9",
   "metadata": {},
   "outputs": [
    {
     "data": {
      "text/plain": [
       "100"
      ]
     },
     "execution_count": 18,
     "metadata": {},
     "output_type": "execute_result"
    }
   ],
   "source": [
    "#Q7.a\n",
    "\n",
    "a=25\n",
    "a*4"
   ]
  },
  {
   "cell_type": "code",
   "execution_count": 19,
   "id": "6228b7ce",
   "metadata": {},
   "outputs": [
    {
     "data": {
      "text/plain": [
       "100"
      ]
     },
     "execution_count": 19,
     "metadata": {},
     "output_type": "execute_result"
    }
   ],
   "source": [
    "#Q7.b\n",
    "\n",
    "a*5-a"
   ]
  },
  {
   "cell_type": "code",
   "execution_count": 20,
   "id": "7f71ca15",
   "metadata": {},
   "outputs": [
    {
     "name": "stdout",
     "output_type": "stream",
     "text": [
      "100.0\n"
     ]
    }
   ],
   "source": [
    "#Q7.c\n",
    "\n",
    "b=2\n",
    "print((a*8)/b)"
   ]
  },
  {
   "cell_type": "markdown",
   "id": "67b719c9",
   "metadata": {},
   "source": [
    "### Q8 Code 2 floating-point variables and divide them by each other"
   ]
  },
  {
   "cell_type": "code",
   "execution_count": 21,
   "id": "fc63c6a6",
   "metadata": {},
   "outputs": [],
   "source": [
    "#Q8.a\n",
    "\n",
    "c=19.35\n",
    "d=3.21\n"
   ]
  },
  {
   "cell_type": "code",
   "execution_count": 22,
   "id": "a629423d",
   "metadata": {},
   "outputs": [
    {
     "data": {
      "text/plain": [
       "6.028037383177571"
      ]
     },
     "execution_count": 22,
     "metadata": {},
     "output_type": "execute_result"
    }
   ],
   "source": [
    "#Q8.b\n",
    "\n",
    "c/d"
   ]
  },
  {
   "cell_type": "markdown",
   "id": "29e49e45",
   "metadata": {},
   "source": [
    "### Q9 Construct a short word using strings"
   ]
  },
  {
   "cell_type": "code",
   "execution_count": 25,
   "id": "2b37fbb6",
   "metadata": {},
   "outputs": [],
   "source": [
    "#Q9. \n",
    "p = 'P'\n",
    "q = 'a'\n",
    "r = 'n'\n",
    "s = 'd'\n",
    "u = 's'\n"
   ]
  },
  {
   "cell_type": "code",
   "execution_count": 26,
   "id": "9853ddf3",
   "metadata": {},
   "outputs": [
    {
     "data": {
      "text/plain": [
       "'Pandas'"
      ]
     },
     "execution_count": 26,
     "metadata": {},
     "output_type": "execute_result"
    }
   ],
   "source": [
    "p+q+r+s+q+u"
   ]
  },
  {
   "cell_type": "markdown",
   "id": "b5052bcf",
   "metadata": {},
   "source": [
    "### Q10 Construct 2 sentences using srings"
   ]
  },
  {
   "cell_type": "code",
   "execution_count": 23,
   "id": "8f32b1c8",
   "metadata": {},
   "outputs": [],
   "source": [
    "#Q10.a\n",
    "\n",
    "e = 'Python '\n",
    "d = 'is '\n",
    "f = 'cool '\n",
    "g = 'and '\n",
    "h = 'I know ' \n",
    "i = 'I am '\n",
    "j = 'going '\n",
    "k = 'to '\n",
    "l = 'love '\n",
    "m = 'it!'\n",
    "n = ' Hi, '\n",
    "o = 'Aylin!'"
   ]
  },
  {
   "cell_type": "code",
   "execution_count": 24,
   "id": "0579e39d",
   "metadata": {},
   "outputs": [
    {
     "data": {
      "text/plain": [
       "'Python is cool and I know I am going to love it! Hi, Aylin!'"
      ]
     },
     "execution_count": 24,
     "metadata": {},
     "output_type": "execute_result"
    }
   ],
   "source": [
    "#Q10.b \n",
    "\n",
    "e+d+f+g+h+i+j+k+l+m+n+o"
   ]
  },
  {
   "cell_type": "code",
   "execution_count": 27,
   "id": "c23324e2",
   "metadata": {},
   "outputs": [],
   "source": [
    "#Bonus - print a string 100 times"
   ]
  },
  {
   "cell_type": "code",
   "execution_count": 28,
   "id": "ca1e9488",
   "metadata": {},
   "outputs": [
    {
     "name": "stdout",
     "output_type": "stream",
     "text": [
      "pandaspandaspandaspandaspandaspandaspandaspandaspandaspandaspandaspandaspandaspandaspandaspandaspandaspandaspandaspandaspandaspandaspandaspandaspandaspandaspandaspandaspandaspandaspandaspandaspandaspandaspandaspandaspandaspandaspandaspandaspandaspandaspandaspandaspandaspandaspandaspandaspandaspandaspandaspandaspandaspandaspandaspandaspandaspandaspandaspandaspandaspandaspandaspandaspandaspandaspandaspandaspandaspandaspandaspandaspandaspandaspandaspandaspandaspandaspandaspandaspandaspandaspandaspandaspandaspandaspandaspandaspandaspandaspandaspandaspandaspandaspandaspandaspandaspandaspandaspandas\n"
     ]
    }
   ],
   "source": [
    "p = 'pandas'\n",
    "print(p*100)"
   ]
  }
 ],
 "metadata": {
  "kernelspec": {
   "display_name": "Python 3 (ipykernel)",
   "language": "python",
   "name": "python3"
  },
  "language_info": {
   "codemirror_mode": {
    "name": "ipython",
    "version": 3
   },
   "file_extension": ".py",
   "mimetype": "text/x-python",
   "name": "python",
   "nbconvert_exporter": "python",
   "pygments_lexer": "ipython3",
   "version": "3.9.7"
  }
 },
 "nbformat": 4,
 "nbformat_minor": 5
}
