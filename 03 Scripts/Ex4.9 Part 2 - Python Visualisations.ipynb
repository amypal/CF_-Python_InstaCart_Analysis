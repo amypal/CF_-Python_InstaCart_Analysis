{
 "cells": [
  {
   "cell_type": "markdown",
   "id": "c4a3b853",
   "metadata": {},
   "source": [
    "# InstaCart Project \n",
    "\n",
    "## Ex4.9  Part 2 - Python Visualisations\n",
    "\n",
    "### Contents\n",
    "- 1. Import libraries and orders_products_customers_merged df\n",
    "- 2. Histogram of 'order_hour_of_day'\n",
    "- 3. Bar show showing orders by customer loyalty\n",
    "- 4. Create representative sample to use for line graph containing 'prices'\n",
    "- 5. Create line chart showing prices over hour_of_day\n",
    "- 6. Determine correlation between age and family status \n",
    "- 7. Is there a correlation between age and spending power?"
   ]
  },
  {
   "cell_type": "markdown",
   "id": "b95e0edf",
   "metadata": {},
   "source": [
    "# 01 Import libraries and dataframe"
   ]
  },
  {
   "cell_type": "code",
   "execution_count": 2,
   "id": "a2eb17b6",
   "metadata": {},
   "outputs": [],
   "source": [
    "# Importing Libraries \n",
    "\n",
    "import pandas as pd\n",
    "import numpy as np\n",
    "import os\n",
    "import matplotlib.pyplot as plt\n",
    "import seaborn as sns\n",
    "import scipy"
   ]
  },
  {
   "cell_type": "code",
   "execution_count": 3,
   "id": "db013933",
   "metadata": {},
   "outputs": [],
   "source": [
    "# Create file path\n",
    "\n",
    "path = r'//Users/amypalomino/Documents/(03.22) InstaCart Basket Analysis'"
   ]
  },
  {
   "cell_type": "code",
   "execution_count": 4,
   "id": "5843d94f",
   "metadata": {},
   "outputs": [],
   "source": [
    "# Import new df ords_prods_custs as df\n",
    "\n",
    "df = pd.read_pickle(os.path.join(path,'02 Data', 'Prepared Data', 'orders_products_customers_merged.pkl'))"
   ]
  },
  {
   "cell_type": "code",
   "execution_count": 5,
   "id": "5ab07320",
   "metadata": {},
   "outputs": [
    {
     "data": {
      "text/plain": [
       "(32435059, 32)"
      ]
     },
     "execution_count": 5,
     "metadata": {},
     "output_type": "execute_result"
    }
   ],
   "source": [
    "df.shape"
   ]
  },
  {
   "cell_type": "code",
   "execution_count": 6,
   "id": "140ed235",
   "metadata": {},
   "outputs": [
    {
     "data": {
      "text/html": [
       "<div>\n",
       "<style scoped>\n",
       "    .dataframe tbody tr th:only-of-type {\n",
       "        vertical-align: middle;\n",
       "    }\n",
       "\n",
       "    .dataframe tbody tr th {\n",
       "        vertical-align: top;\n",
       "    }\n",
       "\n",
       "    .dataframe thead th {\n",
       "        text-align: right;\n",
       "    }\n",
       "</style>\n",
       "<table border=\"1\" class=\"dataframe\">\n",
       "  <thead>\n",
       "    <tr style=\"text-align: right;\">\n",
       "      <th></th>\n",
       "      <th>order_id</th>\n",
       "      <th>user_id</th>\n",
       "      <th>order_number</th>\n",
       "      <th>order_day_of_week</th>\n",
       "      <th>order_hour_of_day</th>\n",
       "      <th>days_since_prior_order</th>\n",
       "      <th>product_id</th>\n",
       "      <th>add_to_cart_order</th>\n",
       "      <th>reordered</th>\n",
       "      <th>_merge</th>\n",
       "      <th>...</th>\n",
       "      <th>Order_frequency_flag</th>\n",
       "      <th>First Name</th>\n",
       "      <th>Surname</th>\n",
       "      <th>Gender</th>\n",
       "      <th>State</th>\n",
       "      <th>Age</th>\n",
       "      <th>date_joined</th>\n",
       "      <th>No_of_dependants</th>\n",
       "      <th>Family_status</th>\n",
       "      <th>income</th>\n",
       "    </tr>\n",
       "  </thead>\n",
       "  <tbody>\n",
       "    <tr>\n",
       "      <th>0</th>\n",
       "      <td>2539329</td>\n",
       "      <td>1</td>\n",
       "      <td>1</td>\n",
       "      <td>2</td>\n",
       "      <td>8</td>\n",
       "      <td>NaN</td>\n",
       "      <td>196</td>\n",
       "      <td>1</td>\n",
       "      <td>0</td>\n",
       "      <td>both</td>\n",
       "      <td>...</td>\n",
       "      <td>Non-frequent customer</td>\n",
       "      <td>Linda</td>\n",
       "      <td>Nguyen</td>\n",
       "      <td>Female</td>\n",
       "      <td>Alabama</td>\n",
       "      <td>31</td>\n",
       "      <td>2/17/2019</td>\n",
       "      <td>3</td>\n",
       "      <td>married</td>\n",
       "      <td>40423</td>\n",
       "    </tr>\n",
       "    <tr>\n",
       "      <th>1</th>\n",
       "      <td>2539329</td>\n",
       "      <td>1</td>\n",
       "      <td>1</td>\n",
       "      <td>2</td>\n",
       "      <td>8</td>\n",
       "      <td>NaN</td>\n",
       "      <td>14084</td>\n",
       "      <td>2</td>\n",
       "      <td>0</td>\n",
       "      <td>both</td>\n",
       "      <td>...</td>\n",
       "      <td>Non-frequent customer</td>\n",
       "      <td>Linda</td>\n",
       "      <td>Nguyen</td>\n",
       "      <td>Female</td>\n",
       "      <td>Alabama</td>\n",
       "      <td>31</td>\n",
       "      <td>2/17/2019</td>\n",
       "      <td>3</td>\n",
       "      <td>married</td>\n",
       "      <td>40423</td>\n",
       "    </tr>\n",
       "    <tr>\n",
       "      <th>2</th>\n",
       "      <td>2539329</td>\n",
       "      <td>1</td>\n",
       "      <td>1</td>\n",
       "      <td>2</td>\n",
       "      <td>8</td>\n",
       "      <td>NaN</td>\n",
       "      <td>12427</td>\n",
       "      <td>3</td>\n",
       "      <td>0</td>\n",
       "      <td>both</td>\n",
       "      <td>...</td>\n",
       "      <td>Non-frequent customer</td>\n",
       "      <td>Linda</td>\n",
       "      <td>Nguyen</td>\n",
       "      <td>Female</td>\n",
       "      <td>Alabama</td>\n",
       "      <td>31</td>\n",
       "      <td>2/17/2019</td>\n",
       "      <td>3</td>\n",
       "      <td>married</td>\n",
       "      <td>40423</td>\n",
       "    </tr>\n",
       "    <tr>\n",
       "      <th>3</th>\n",
       "      <td>2539329</td>\n",
       "      <td>1</td>\n",
       "      <td>1</td>\n",
       "      <td>2</td>\n",
       "      <td>8</td>\n",
       "      <td>NaN</td>\n",
       "      <td>26088</td>\n",
       "      <td>4</td>\n",
       "      <td>0</td>\n",
       "      <td>both</td>\n",
       "      <td>...</td>\n",
       "      <td>Non-frequent customer</td>\n",
       "      <td>Linda</td>\n",
       "      <td>Nguyen</td>\n",
       "      <td>Female</td>\n",
       "      <td>Alabama</td>\n",
       "      <td>31</td>\n",
       "      <td>2/17/2019</td>\n",
       "      <td>3</td>\n",
       "      <td>married</td>\n",
       "      <td>40423</td>\n",
       "    </tr>\n",
       "    <tr>\n",
       "      <th>4</th>\n",
       "      <td>2539329</td>\n",
       "      <td>1</td>\n",
       "      <td>1</td>\n",
       "      <td>2</td>\n",
       "      <td>8</td>\n",
       "      <td>NaN</td>\n",
       "      <td>26405</td>\n",
       "      <td>5</td>\n",
       "      <td>0</td>\n",
       "      <td>both</td>\n",
       "      <td>...</td>\n",
       "      <td>Non-frequent customer</td>\n",
       "      <td>Linda</td>\n",
       "      <td>Nguyen</td>\n",
       "      <td>Female</td>\n",
       "      <td>Alabama</td>\n",
       "      <td>31</td>\n",
       "      <td>2/17/2019</td>\n",
       "      <td>3</td>\n",
       "      <td>married</td>\n",
       "      <td>40423</td>\n",
       "    </tr>\n",
       "  </tbody>\n",
       "</table>\n",
       "<p>5 rows × 32 columns</p>\n",
       "</div>"
      ],
      "text/plain": [
       "   order_id user_id  order_number  order_day_of_week  order_hour_of_day  \\\n",
       "0   2539329       1             1                  2                  8   \n",
       "1   2539329       1             1                  2                  8   \n",
       "2   2539329       1             1                  2                  8   \n",
       "3   2539329       1             1                  2                  8   \n",
       "4   2539329       1             1                  2                  8   \n",
       "\n",
       "   days_since_prior_order  product_id  add_to_cart_order  reordered _merge  \\\n",
       "0                     NaN         196                  1          0   both   \n",
       "1                     NaN       14084                  2          0   both   \n",
       "2                     NaN       12427                  3          0   both   \n",
       "3                     NaN       26088                  4          0   both   \n",
       "4                     NaN       26405                  5          0   both   \n",
       "\n",
       "   ...   Order_frequency_flag  First Name  Surname  Gender    State Age  \\\n",
       "0  ...  Non-frequent customer       Linda   Nguyen  Female  Alabama  31   \n",
       "1  ...  Non-frequent customer       Linda   Nguyen  Female  Alabama  31   \n",
       "2  ...  Non-frequent customer       Linda   Nguyen  Female  Alabama  31   \n",
       "3  ...  Non-frequent customer       Linda   Nguyen  Female  Alabama  31   \n",
       "4  ...  Non-frequent customer       Linda   Nguyen  Female  Alabama  31   \n",
       "\n",
       "  date_joined  No_of_dependants Family_status  income  \n",
       "0   2/17/2019                 3       married   40423  \n",
       "1   2/17/2019                 3       married   40423  \n",
       "2   2/17/2019                 3       married   40423  \n",
       "3   2/17/2019                 3       married   40423  \n",
       "4   2/17/2019                 3       married   40423  \n",
       "\n",
       "[5 rows x 32 columns]"
      ]
     },
     "execution_count": 6,
     "metadata": {},
     "output_type": "execute_result"
    }
   ],
   "source": [
    "df.head()"
   ]
  },
  {
   "cell_type": "code",
   "execution_count": 6,
   "id": "2933d8fa",
   "metadata": {
    "scrolled": true
   },
   "outputs": [
    {
     "data": {
      "text/html": [
       "<div>\n",
       "<style scoped>\n",
       "    .dataframe tbody tr th:only-of-type {\n",
       "        vertical-align: middle;\n",
       "    }\n",
       "\n",
       "    .dataframe tbody tr th {\n",
       "        vertical-align: top;\n",
       "    }\n",
       "\n",
       "    .dataframe thead th {\n",
       "        text-align: right;\n",
       "    }\n",
       "</style>\n",
       "<table border=\"1\" class=\"dataframe\">\n",
       "  <thead>\n",
       "    <tr style=\"text-align: right;\">\n",
       "      <th></th>\n",
       "      <th>order_id</th>\n",
       "      <th>order_number</th>\n",
       "      <th>order_day_of_week</th>\n",
       "      <th>order_hour_of_day</th>\n",
       "      <th>days_since_prior_order</th>\n",
       "      <th>product_id</th>\n",
       "      <th>add_to_cart_order</th>\n",
       "      <th>reordered</th>\n",
       "      <th>aisle_id</th>\n",
       "      <th>department_id</th>\n",
       "      <th>prices</th>\n",
       "      <th>max_order</th>\n",
       "      <th>average_price</th>\n",
       "      <th>median_order_frequency</th>\n",
       "      <th>Age</th>\n",
       "      <th>No_of_dependants</th>\n",
       "      <th>income</th>\n",
       "    </tr>\n",
       "  </thead>\n",
       "  <tbody>\n",
       "    <tr>\n",
       "      <th>count</th>\n",
       "      <td>3.243506e+07</td>\n",
       "      <td>3.243506e+07</td>\n",
       "      <td>3.243506e+07</td>\n",
       "      <td>3.243506e+07</td>\n",
       "      <td>3.035696e+07</td>\n",
       "      <td>3.243506e+07</td>\n",
       "      <td>3.243506e+07</td>\n",
       "      <td>3.243506e+07</td>\n",
       "      <td>3.240486e+07</td>\n",
       "      <td>3.240486e+07</td>\n",
       "      <td>3.240486e+07</td>\n",
       "      <td>3.243506e+07</td>\n",
       "      <td>3.243506e+07</td>\n",
       "      <td>3.243506e+07</td>\n",
       "      <td>3.243506e+07</td>\n",
       "      <td>3.243506e+07</td>\n",
       "      <td>3.243506e+07</td>\n",
       "    </tr>\n",
       "    <tr>\n",
       "      <th>mean</th>\n",
       "      <td>1.710748e+06</td>\n",
       "      <td>1.714195e+01</td>\n",
       "      <td>2.738815e+00</td>\n",
       "      <td>1.342498e+01</td>\n",
       "      <td>1.110414e+01</td>\n",
       "      <td>2.557635e+04</td>\n",
       "      <td>8.351081e+00</td>\n",
       "      <td>5.896955e-01</td>\n",
       "      <td>7.119612e+01</td>\n",
       "      <td>9.919792e+00</td>\n",
       "      <td>7.789986e+00</td>\n",
       "      <td>3.305231e+01</td>\n",
       "      <td>7.789940e+00</td>\n",
       "      <td>1.039779e+01</td>\n",
       "      <td>4.946512e+01</td>\n",
       "      <td>1.501877e+00</td>\n",
       "      <td>9.943550e+04</td>\n",
       "    </tr>\n",
       "    <tr>\n",
       "      <th>std</th>\n",
       "      <td>9.873006e+05</td>\n",
       "      <td>1.753496e+01</td>\n",
       "      <td>2.090051e+00</td>\n",
       "      <td>4.246357e+00</td>\n",
       "      <td>8.778941e+00</td>\n",
       "      <td>1.409657e+04</td>\n",
       "      <td>7.126656e+00</td>\n",
       "      <td>4.918889e-01</td>\n",
       "      <td>3.821139e+01</td>\n",
       "      <td>6.281485e+00</td>\n",
       "      <td>4.242231e+00</td>\n",
       "      <td>2.515463e+01</td>\n",
       "      <td>7.348567e-01</td>\n",
       "      <td>7.131238e+00</td>\n",
       "      <td>1.848555e+01</td>\n",
       "      <td>1.118869e+00</td>\n",
       "      <td>4.305540e+04</td>\n",
       "    </tr>\n",
       "    <tr>\n",
       "      <th>min</th>\n",
       "      <td>2.000000e+00</td>\n",
       "      <td>1.000000e+00</td>\n",
       "      <td>0.000000e+00</td>\n",
       "      <td>0.000000e+00</td>\n",
       "      <td>0.000000e+00</td>\n",
       "      <td>1.000000e+00</td>\n",
       "      <td>1.000000e+00</td>\n",
       "      <td>0.000000e+00</td>\n",
       "      <td>1.000000e+00</td>\n",
       "      <td>1.000000e+00</td>\n",
       "      <td>9.900000e-01</td>\n",
       "      <td>3.000000e+00</td>\n",
       "      <td>1.000000e+00</td>\n",
       "      <td>0.000000e+00</td>\n",
       "      <td>1.800000e+01</td>\n",
       "      <td>0.000000e+00</td>\n",
       "      <td>2.590300e+04</td>\n",
       "    </tr>\n",
       "    <tr>\n",
       "      <th>25%</th>\n",
       "      <td>8.559430e+05</td>\n",
       "      <td>5.000000e+00</td>\n",
       "      <td>1.000000e+00</td>\n",
       "      <td>1.000000e+01</td>\n",
       "      <td>5.000000e+00</td>\n",
       "      <td>1.353200e+04</td>\n",
       "      <td>3.000000e+00</td>\n",
       "      <td>0.000000e+00</td>\n",
       "      <td>3.100000e+01</td>\n",
       "      <td>4.000000e+00</td>\n",
       "      <td>4.200000e+00</td>\n",
       "      <td>1.300000e+01</td>\n",
       "      <td>7.377451e+00</td>\n",
       "      <td>6.000000e+00</td>\n",
       "      <td>3.300000e+01</td>\n",
       "      <td>1.000000e+00</td>\n",
       "      <td>6.700200e+04</td>\n",
       "    </tr>\n",
       "    <tr>\n",
       "      <th>50%</th>\n",
       "      <td>1.711047e+06</td>\n",
       "      <td>1.100000e+01</td>\n",
       "      <td>3.000000e+00</td>\n",
       "      <td>1.300000e+01</td>\n",
       "      <td>8.000000e+00</td>\n",
       "      <td>2.525600e+04</td>\n",
       "      <td>6.000000e+00</td>\n",
       "      <td>1.000000e+00</td>\n",
       "      <td>8.300000e+01</td>\n",
       "      <td>9.000000e+00</td>\n",
       "      <td>7.400000e+00</td>\n",
       "      <td>2.600000e+01</td>\n",
       "      <td>7.811012e+00</td>\n",
       "      <td>8.000000e+00</td>\n",
       "      <td>4.900000e+01</td>\n",
       "      <td>2.000000e+00</td>\n",
       "      <td>9.661200e+04</td>\n",
       "    </tr>\n",
       "    <tr>\n",
       "      <th>75%</th>\n",
       "      <td>2.565514e+06</td>\n",
       "      <td>2.400000e+01</td>\n",
       "      <td>5.000000e+00</td>\n",
       "      <td>1.600000e+01</td>\n",
       "      <td>1.500000e+01</td>\n",
       "      <td>3.793500e+04</td>\n",
       "      <td>1.100000e+01</td>\n",
       "      <td>1.000000e+00</td>\n",
       "      <td>1.070000e+02</td>\n",
       "      <td>1.600000e+01</td>\n",
       "      <td>1.130000e+01</td>\n",
       "      <td>4.700000e+01</td>\n",
       "      <td>8.228509e+00</td>\n",
       "      <td>1.300000e+01</td>\n",
       "      <td>6.500000e+01</td>\n",
       "      <td>3.000000e+00</td>\n",
       "      <td>1.279080e+05</td>\n",
       "    </tr>\n",
       "    <tr>\n",
       "      <th>max</th>\n",
       "      <td>3.421083e+06</td>\n",
       "      <td>9.900000e+01</td>\n",
       "      <td>6.000000e+00</td>\n",
       "      <td>2.300000e+01</td>\n",
       "      <td>3.000000e+01</td>\n",
       "      <td>4.968800e+04</td>\n",
       "      <td>1.450000e+02</td>\n",
       "      <td>1.000000e+00</td>\n",
       "      <td>1.340000e+02</td>\n",
       "      <td>2.100000e+01</td>\n",
       "      <td>2.500000e+01</td>\n",
       "      <td>9.900000e+01</td>\n",
       "      <td>2.320000e+01</td>\n",
       "      <td>3.000000e+01</td>\n",
       "      <td>8.100000e+01</td>\n",
       "      <td>3.000000e+00</td>\n",
       "      <td>5.939010e+05</td>\n",
       "    </tr>\n",
       "  </tbody>\n",
       "</table>\n",
       "</div>"
      ],
      "text/plain": [
       "           order_id  order_number  order_day_of_week  order_hour_of_day  \\\n",
       "count  3.243506e+07  3.243506e+07       3.243506e+07       3.243506e+07   \n",
       "mean   1.710748e+06  1.714195e+01       2.738815e+00       1.342498e+01   \n",
       "std    9.873006e+05  1.753496e+01       2.090051e+00       4.246357e+00   \n",
       "min    2.000000e+00  1.000000e+00       0.000000e+00       0.000000e+00   \n",
       "25%    8.559430e+05  5.000000e+00       1.000000e+00       1.000000e+01   \n",
       "50%    1.711047e+06  1.100000e+01       3.000000e+00       1.300000e+01   \n",
       "75%    2.565514e+06  2.400000e+01       5.000000e+00       1.600000e+01   \n",
       "max    3.421083e+06  9.900000e+01       6.000000e+00       2.300000e+01   \n",
       "\n",
       "       days_since_prior_order    product_id  add_to_cart_order     reordered  \\\n",
       "count            3.035696e+07  3.243506e+07       3.243506e+07  3.243506e+07   \n",
       "mean             1.110414e+01  2.557635e+04       8.351081e+00  5.896955e-01   \n",
       "std              8.778941e+00  1.409657e+04       7.126656e+00  4.918889e-01   \n",
       "min              0.000000e+00  1.000000e+00       1.000000e+00  0.000000e+00   \n",
       "25%              5.000000e+00  1.353200e+04       3.000000e+00  0.000000e+00   \n",
       "50%              8.000000e+00  2.525600e+04       6.000000e+00  1.000000e+00   \n",
       "75%              1.500000e+01  3.793500e+04       1.100000e+01  1.000000e+00   \n",
       "max              3.000000e+01  4.968800e+04       1.450000e+02  1.000000e+00   \n",
       "\n",
       "           aisle_id  department_id        prices     max_order  average_price  \\\n",
       "count  3.240486e+07   3.240486e+07  3.240486e+07  3.243506e+07   3.243506e+07   \n",
       "mean   7.119612e+01   9.919792e+00  7.789986e+00  3.305231e+01   7.789940e+00   \n",
       "std    3.821139e+01   6.281485e+00  4.242231e+00  2.515463e+01   7.348567e-01   \n",
       "min    1.000000e+00   1.000000e+00  9.900000e-01  3.000000e+00   1.000000e+00   \n",
       "25%    3.100000e+01   4.000000e+00  4.200000e+00  1.300000e+01   7.377451e+00   \n",
       "50%    8.300000e+01   9.000000e+00  7.400000e+00  2.600000e+01   7.811012e+00   \n",
       "75%    1.070000e+02   1.600000e+01  1.130000e+01  4.700000e+01   8.228509e+00   \n",
       "max    1.340000e+02   2.100000e+01  2.500000e+01  9.900000e+01   2.320000e+01   \n",
       "\n",
       "       median_order_frequency           Age  No_of_dependants        income  \n",
       "count            3.243506e+07  3.243506e+07      3.243506e+07  3.243506e+07  \n",
       "mean             1.039779e+01  4.946512e+01      1.501877e+00  9.943550e+04  \n",
       "std              7.131238e+00  1.848555e+01      1.118869e+00  4.305540e+04  \n",
       "min              0.000000e+00  1.800000e+01      0.000000e+00  2.590300e+04  \n",
       "25%              6.000000e+00  3.300000e+01      1.000000e+00  6.700200e+04  \n",
       "50%              8.000000e+00  4.900000e+01      2.000000e+00  9.661200e+04  \n",
       "75%              1.300000e+01  6.500000e+01      3.000000e+00  1.279080e+05  \n",
       "max              3.000000e+01  8.100000e+01      3.000000e+00  5.939010e+05  "
      ]
     },
     "execution_count": 6,
     "metadata": {},
     "output_type": "execute_result"
    }
   ],
   "source": [
    "df.describe()"
   ]
  },
  {
   "cell_type": "markdown",
   "id": "b6e87ee4",
   "metadata": {},
   "source": [
    "# 02 Histogram of 'order_hour_of_day'"
   ]
  },
  {
   "cell_type": "code",
   "execution_count": 8,
   "id": "ec7e0576",
   "metadata": {},
   "outputs": [
    {
     "data": {
      "text/plain": [
       "<AxesSubplot:ylabel='Frequency'>"
      ]
     },
     "execution_count": 8,
     "metadata": {},
     "output_type": "execute_result"
    },
    {
     "data": {
      "image/png": "[encoded data removed]",
      "text/plain": [
       "<Figure size 432x288 with 1 Axes>"
      ]
     },
     "metadata": {
      "needs_background": "light"
     },
     "output_type": "display_data"
    }
   ],
   "source": [
    "# Create histogram to show orders throughout day. Will use 24 bins for the 24 hour timeframe\n",
    "\n",
    "df['order_hour_of_day'].plot.hist(bins = 24)"
   ]
  },
  {
   "cell_type": "markdown",
   "id": "a43479bf",
   "metadata": {},
   "source": [
    " - Histrogram clearly shows the most popular hours fro placing orders fall between 9am and 4pm\n",
    " - Orders gradually decline from late afternoon through to 11pm\n",
    " - There are very few orders placed overnight"
   ]
  },
  {
   "cell_type": "code",
   "execution_count": 9,
   "id": "648b7f70",
   "metadata": {},
   "outputs": [
    {
     "data": {
      "image/png": "[encoded data removed]",
      "text/plain": [
       "<Figure size 432x288 with 1 Axes>"
      ]
     },
     "metadata": {
      "needs_background": "light"
     },
     "output_type": "display_data"
    }
   ],
   "source": [
    "# Create object of chart\n",
    "\n",
    "hist_ords_hours = df['order_hour_of_day'].plot.hist(bins = 24)"
   ]
  },
  {
   "cell_type": "code",
   "execution_count": 10,
   "id": "10710f24",
   "metadata": {},
   "outputs": [],
   "source": [
    "# Export Chart to Visualisation folder\n",
    "\n",
    "hist_ords_hours.figure.savefig(os.path.join(path, '04 Analysis', 'Visulaisations', 'hist_ords_hours.png'))"
   ]
  },
  {
   "cell_type": "markdown",
   "id": "d056292b",
   "metadata": {},
   "source": [
    "# 03 Bar show showing orders by customer loyalty"
   ]
  },
  {
   "cell_type": "code",
   "execution_count": 13,
   "id": "d3796e14",
   "metadata": {},
   "outputs": [
    {
     "data": {
      "text/plain": [
       "Index(['order_id', 'user_id', 'order_number', 'order_day_of_week',\n",
       "       'order_hour_of_day', 'days_since_prior_order', 'product_id',\n",
       "       'add_to_cart_order', 'reordered', '_merge', 'product_name', 'aisle_id',\n",
       "       'department_id', 'prices', 'price_range_loc', 'busiest day',\n",
       "       'busiest_period_of_day', 'max_order', 'loyalty_flag', 'average_price',\n",
       "       'High/Low_Spender', 'median_order_frequency', 'Order_frequency_flag',\n",
       "       'First Name', 'Surname', 'Gender', 'State', 'Age', 'date_joined',\n",
       "       'No_of_dependants', 'Family_status', 'income'],\n",
       "      dtype='object')"
      ]
     },
     "execution_count": 13,
     "metadata": {},
     "output_type": "execute_result"
    }
   ],
   "source": [
    "# Get column names \n",
    "\n",
    "df.columns"
   ]
  },
  {
   "cell_type": "code",
   "execution_count": 14,
   "id": "20e77361",
   "metadata": {},
   "outputs": [
    {
     "data": {
      "image/png": "[encoded data removed]",
      "text/plain": [
       "<Figure size 432x288 with 1 Axes>"
      ]
     },
     "metadata": {
      "needs_background": "light"
     },
     "output_type": "display_data"
    }
   ],
   "source": [
    "# Create bar chart showing frequency of orders by loyalty flag \n",
    "\n",
    "bar_loyalty_ords = df['loyalty_flag'].value_counts().plot.bar()"
   ]
  },
  {
   "cell_type": "code",
   "execution_count": 15,
   "id": "b0a4a1df",
   "metadata": {},
   "outputs": [],
   "source": [
    "# Export chart to folder \n",
    "\n",
    "bar_loyalty_ords.figure.savefig(os.path.join(path, '04 Analysis', 'Visulaisations', 'bar_loyalty_ords.png'))"
   ]
  },
  {
   "cell_type": "markdown",
   "id": "47aeacf1",
   "metadata": {},
   "source": [
    "# 04 Create representative sample to use for line graph containing 'prices'"
   ]
  },
  {
   "cell_type": "code",
   "execution_count": 16,
   "id": "3169c02e",
   "metadata": {},
   "outputs": [],
   "source": [
    "# Set the seed for the random number generator as 4\n",
    "np.random.seed(4)"
   ]
  },
  {
   "cell_type": "code",
   "execution_count": 17,
   "id": "80fca47d",
   "metadata": {},
   "outputs": [],
   "source": [
    "# Create a list holding True/False values to test np.random.rand() <= 0.7\n",
    "dev = np.random.rand(len(df)) <= 0.7"
   ]
  },
  {
   "cell_type": "code",
   "execution_count": 18,
   "id": "ab1bc362",
   "metadata": {},
   "outputs": [],
   "source": [
    "# Store 70% of the sample in the dataframe big\n",
    "big = df[dev]"
   ]
  },
  {
   "cell_type": "code",
   "execution_count": 19,
   "id": "afe07e0b",
   "metadata": {},
   "outputs": [],
   "source": [
    "# Store 30% of the sample in the dataframe small\n",
    "small = df[~dev]"
   ]
  },
  {
   "cell_type": "code",
   "execution_count": 20,
   "id": "a39da4bc",
   "metadata": {},
   "outputs": [
    {
     "data": {
      "text/plain": [
       "32435059"
      ]
     },
     "execution_count": 20,
     "metadata": {},
     "output_type": "execute_result"
    }
   ],
   "source": [
    "len(df)"
   ]
  },
  {
   "cell_type": "code",
   "execution_count": 21,
   "id": "440f90b2",
   "metadata": {},
   "outputs": [
    {
     "data": {
      "text/plain": [
       "32435059"
      ]
     },
     "execution_count": 21,
     "metadata": {},
     "output_type": "execute_result"
    }
   ],
   "source": [
    "len(big) + len(small)"
   ]
  },
  {
   "cell_type": "markdown",
   "id": "856d512e",
   "metadata": {},
   "source": [
    "# 05 Create line chart showing prices over hour_of_day"
   ]
  },
  {
   "cell_type": "code",
   "execution_count": 22,
   "id": "6d9c603f",
   "metadata": {},
   "outputs": [],
   "source": [
    "# Reduce columns to only those required for chart using small df\n",
    "df_2 = small[['order_hour_of_day','prices']]"
   ]
  },
  {
   "cell_type": "code",
   "execution_count": 23,
   "id": "f5b89e93",
   "metadata": {},
   "outputs": [
    {
     "data": {
      "image/png": "[encoded data removed]",
      "text/plain": [
       "<Figure size 432x288 with 1 Axes>"
      ]
     },
     "metadata": {
      "needs_background": "light"
     },
     "output_type": "display_data"
    }
   ],
   "source": [
    "line_price_hour = sns.lineplot(data = df_2, \n",
    "                   x = 'order_hour_of_day',\n",
    "                   y = 'prices')"
   ]
  },
  {
   "cell_type": "code",
   "execution_count": 26,
   "id": "cf8f3acb",
   "metadata": {},
   "outputs": [],
   "source": [
    "# Export chart to folder\n",
    "\n",
    "line_price_hour.figure.savefig(os.path.join(path, '04 Analysis', 'Visulaisations', 'line_price_hour'))"
   ]
  },
  {
   "cell_type": "markdown",
   "id": "d6d3a07e",
   "metadata": {},
   "source": [
    "# 06 Determine correlation between age and family status "
   ]
  },
  {
   "cell_type": "code",
   "execution_count": 27,
   "id": "b2842375",
   "metadata": {},
   "outputs": [
    {
     "data": {
      "image/png": "[encoded data removed]",
      "text/plain": [
       "<Figure size 432x288 with 1 Axes>"
      ]
     },
     "metadata": {
      "needs_background": "light"
     },
     "output_type": "display_data"
    }
   ],
   "source": [
    "line_age_fam = sns.lineplot(data = df, \n",
    "                   x = 'Age',\n",
    "                   y = 'No_of_dependants')"
   ]
  },
  {
   "cell_type": "markdown",
   "id": "80526e2b",
   "metadata": {},
   "source": [
    "- The line chart shows there is no correlation between these 2 variables.\n",
    "- Is the no_of_dependants an average of all rows in that age group?!\n",
    "- I'm not sure this type of chart is the best choice for determining the relationship though. I wonder if a scatterplot might do a better job? "
   ]
  },
  {
   "cell_type": "code",
   "execution_count": 28,
   "id": "4f264956",
   "metadata": {},
   "outputs": [],
   "source": [
    "# Export chart to folder\n",
    "\n",
    "line_age_fam.figure.savefig(os.path.join(path, '04 Analysis', 'Visulaisations', 'line_age_fam'))"
   ]
  },
  {
   "cell_type": "code",
   "execution_count": 29,
   "id": "4b9fcfc7",
   "metadata": {},
   "outputs": [],
   "source": [
    "df_3 = small[['Age', 'No_of_dependants']]"
   ]
  },
  {
   "cell_type": "code",
   "execution_count": 30,
   "id": "6b54dc2d",
   "metadata": {},
   "outputs": [
    {
     "data": {
      "image/png": "[encoded data removed]",
      "text/plain": [
       "<Figure size 432x288 with 1 Axes>"
      ]
     },
     "metadata": {
      "needs_background": "light"
     },
     "output_type": "display_data"
    }
   ],
   "source": [
    "scat_age_fam = sns.scatterplot(x = 'Age',\n",
    "                               y = 'No_of_dependants',\n",
    "                               data = df_3)"
   ]
  },
  {
   "cell_type": "markdown",
   "id": "cdb8117f",
   "metadata": {},
   "source": [
    "- This is not what I was expecting but on reflection, it makes sense, of course... In wich case, I would probably try to make a bar chart but I wonder if I could use the age to create some groups, like 18-24, 25-34 etc. "
   ]
  },
  {
   "cell_type": "markdown",
   "id": "fee4863d",
   "metadata": {},
   "source": [
    "# 07 Is there a correlation between age and spending power?"
   ]
  },
  {
   "cell_type": "code",
   "execution_count": 43,
   "id": "f3df44da",
   "metadata": {},
   "outputs": [
    {
     "data": {
      "image/png": "[encoded data removed]",
      "text/plain": [
       "<Figure size 432x288 with 1 Axes>"
      ]
     },
     "metadata": {
      "needs_background": "light"
     },
     "output_type": "display_data"
    }
   ],
   "source": [
    "scat_age_income = sns.scatterplot(x = 'Age',\n",
    "                                  y = 'income',\n",
    "                                  data = df)"
   ]
  },
  {
   "cell_type": "markdown",
   "id": "bc9c2bc1",
   "metadata": {},
   "source": [
    "- There does appear to be a reasonable correlation between age and spending power. \n",
    "- Based on this chart, no-one below the age of 40 has a salary that exceeds $400,000"
   ]
  },
  {
   "cell_type": "code",
   "execution_count": 44,
   "id": "5a72befa",
   "metadata": {},
   "outputs": [],
   "source": [
    "# Export chart to folder\n",
    "\n",
    "scat_age_income.figure.savefig(os.path.join(path, '04 Analysis', 'Visulaisations', 'scat_age_income'))"
   ]
  }
 ],
 "metadata": {
  "kernelspec": {
   "display_name": "Python 3 (ipykernel)",
   "language": "python",
   "name": "python3"
  },
  "language_info": {
   "codemirror_mode": {
    "name": "ipython",
    "version": 3
   },
   "file_extension": ".py",
   "mimetype": "text/x-python",
   "name": "python",
   "nbconvert_exporter": "python",
   "pygments_lexer": "ipython3",
   "version": "3.9.7"
  }
 },
 "nbformat": 4,
 "nbformat_minor": 5
}
