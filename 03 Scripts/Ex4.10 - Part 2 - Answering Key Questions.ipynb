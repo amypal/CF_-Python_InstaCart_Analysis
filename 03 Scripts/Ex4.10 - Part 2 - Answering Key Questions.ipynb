{
 "cells": [
  {
   "cell_type": "markdown",
   "id": "070208eb",
   "metadata": {},
   "source": [
    "# InstaCart Project\n",
    "# Ex 4.10 - Part 2 \n",
    "## Answering Key Questions"
   ]
  },
  {
   "attachments": {},
   "cell_type": "markdown",
   "id": "bfcb79ca",
   "metadata": {},
   "source": [
    "# Contents\n",
    "01. Import libraries and ‘ords_prods_custs_merged_excl_flag.pkl’\n",
    "02. What are the busiest days of the week and hours of the day?\n",
    "03. Is there a time of day when people spend more money? \n",
    "04. Suggest smaller price range groupings for targeting marketing campaigns\n",
    "05. Are there certain types of products that are more popular than others? \n",
    "06. Do different types of customers have different ordering behaviors? \n",
    "07. Brand loyalty\n",
    "08. Exploring Customer insights"
   ]
  },
  {
   "cell_type": "markdown",
   "id": "1bd5c19c",
   "metadata": {},
   "source": [
    "# 01. Importing libraries and dataframe"
   ]
  },
  {
   "cell_type": "code",
   "execution_count": 1,
   "id": "98be93bd",
   "metadata": {},
   "outputs": [],
   "source": [
    "# Importing Libraries \n",
    "\n",
    "import pandas as pd\n",
    "import numpy as np\n",
    "import os\n",
    "import matplotlib.pyplot as plt\n",
    "import seaborn as sns\n",
    "import scipy"
   ]
  },
  {
   "cell_type": "code",
   "execution_count": 2,
   "id": "d0159440",
   "metadata": {},
   "outputs": [],
   "source": [
    "# Create file path\n",
    "\n",
    "path = r'//Users/amypalomino/Documents/(03.22) InstaCart Basket Analysis'"
   ]
  },
  {
   "cell_type": "code",
   "execution_count": 3,
   "id": "378b22cf",
   "metadata": {},
   "outputs": [],
   "source": [
    "# Import df ords_prods_custs_merged_excl_flag as df - Low Activity (<5 orders) customers, have been excluded from this data\n",
    "\n",
    "df = pd.read_pickle(os.path.join(path,'02 Data', 'Prepared Data', 'ords_prods_custs_merged_excl_flag.pkl'))"
   ]
  },
  {
   "cell_type": "code",
   "execution_count": 4,
   "id": "e73024ee",
   "metadata": {},
   "outputs": [
    {
     "data": {
      "text/plain": [
       "(30993489, 37)"
      ]
     },
     "execution_count": 4,
     "metadata": {},
     "output_type": "execute_result"
    }
   ],
   "source": [
    "df.shape"
   ]
  },
  {
   "cell_type": "code",
   "execution_count": 5,
   "id": "595f2d85",
   "metadata": {},
   "outputs": [
    {
     "data": {
      "text/html": [
       "<div>\n",
       "<style scoped>\n",
       "    .dataframe tbody tr th:only-of-type {\n",
       "        vertical-align: middle;\n",
       "    }\n",
       "\n",
       "    .dataframe tbody tr th {\n",
       "        vertical-align: top;\n",
       "    }\n",
       "\n",
       "    .dataframe thead th {\n",
       "        text-align: right;\n",
       "    }\n",
       "</style>\n",
       "<table border=\"1\" class=\"dataframe\">\n",
       "  <thead>\n",
       "    <tr style=\"text-align: right;\">\n",
       "      <th></th>\n",
       "      <th>order_id</th>\n",
       "      <th>user_id</th>\n",
       "      <th>order_number</th>\n",
       "      <th>order_day_of_week</th>\n",
       "      <th>order_hour_of_day</th>\n",
       "      <th>days_since_prior_order</th>\n",
       "      <th>product_id</th>\n",
       "      <th>add_to_cart_order</th>\n",
       "      <th>reordered</th>\n",
       "      <th>product_name</th>\n",
       "      <th>...</th>\n",
       "      <th>income</th>\n",
       "      <th>Region</th>\n",
       "      <th>exclusion_flag</th>\n",
       "      <th>age_range</th>\n",
       "      <th>income_flag</th>\n",
       "      <th>Family_flag</th>\n",
       "      <th>Diet</th>\n",
       "      <th>Pet_owner</th>\n",
       "      <th>Weekend_flag</th>\n",
       "      <th>Time_of_day_flag</th>\n",
       "    </tr>\n",
       "  </thead>\n",
       "  <tbody>\n",
       "    <tr>\n",
       "      <th>0</th>\n",
       "      <td>2539329</td>\n",
       "      <td>1</td>\n",
       "      <td>1</td>\n",
       "      <td>2</td>\n",
       "      <td>8</td>\n",
       "      <td>NaN</td>\n",
       "      <td>196</td>\n",
       "      <td>1</td>\n",
       "      <td>0</td>\n",
       "      <td>Soda</td>\n",
       "      <td>...</td>\n",
       "      <td>40423</td>\n",
       "      <td>South</td>\n",
       "      <td>High Activity</td>\n",
       "      <td>18-34</td>\n",
       "      <td>Low income</td>\n",
       "      <td>Family</td>\n",
       "      <td>Vegan</td>\n",
       "      <td>No pets</td>\n",
       "      <td>Weekday</td>\n",
       "      <td>Morning</td>\n",
       "    </tr>\n",
       "    <tr>\n",
       "      <th>1</th>\n",
       "      <td>2539329</td>\n",
       "      <td>1</td>\n",
       "      <td>1</td>\n",
       "      <td>2</td>\n",
       "      <td>8</td>\n",
       "      <td>NaN</td>\n",
       "      <td>14084</td>\n",
       "      <td>2</td>\n",
       "      <td>0</td>\n",
       "      <td>Organic Unsweetened Vanilla Almond Milk</td>\n",
       "      <td>...</td>\n",
       "      <td>40423</td>\n",
       "      <td>South</td>\n",
       "      <td>High Activity</td>\n",
       "      <td>18-34</td>\n",
       "      <td>Low income</td>\n",
       "      <td>Family</td>\n",
       "      <td>Vegetarian</td>\n",
       "      <td>No pets</td>\n",
       "      <td>Weekday</td>\n",
       "      <td>Morning</td>\n",
       "    </tr>\n",
       "    <tr>\n",
       "      <th>2</th>\n",
       "      <td>2539329</td>\n",
       "      <td>1</td>\n",
       "      <td>1</td>\n",
       "      <td>2</td>\n",
       "      <td>8</td>\n",
       "      <td>NaN</td>\n",
       "      <td>12427</td>\n",
       "      <td>3</td>\n",
       "      <td>0</td>\n",
       "      <td>Original Beef Jerky</td>\n",
       "      <td>...</td>\n",
       "      <td>40423</td>\n",
       "      <td>South</td>\n",
       "      <td>High Activity</td>\n",
       "      <td>18-34</td>\n",
       "      <td>Low income</td>\n",
       "      <td>Family</td>\n",
       "      <td>Vegan</td>\n",
       "      <td>No pets</td>\n",
       "      <td>Weekday</td>\n",
       "      <td>Morning</td>\n",
       "    </tr>\n",
       "    <tr>\n",
       "      <th>3</th>\n",
       "      <td>2539329</td>\n",
       "      <td>1</td>\n",
       "      <td>1</td>\n",
       "      <td>2</td>\n",
       "      <td>8</td>\n",
       "      <td>NaN</td>\n",
       "      <td>26088</td>\n",
       "      <td>4</td>\n",
       "      <td>0</td>\n",
       "      <td>Aged White Cheddar Popcorn</td>\n",
       "      <td>...</td>\n",
       "      <td>40423</td>\n",
       "      <td>South</td>\n",
       "      <td>High Activity</td>\n",
       "      <td>18-34</td>\n",
       "      <td>Low income</td>\n",
       "      <td>Family</td>\n",
       "      <td>Vegan</td>\n",
       "      <td>No pets</td>\n",
       "      <td>Weekday</td>\n",
       "      <td>Morning</td>\n",
       "    </tr>\n",
       "    <tr>\n",
       "      <th>4</th>\n",
       "      <td>2539329</td>\n",
       "      <td>1</td>\n",
       "      <td>1</td>\n",
       "      <td>2</td>\n",
       "      <td>8</td>\n",
       "      <td>NaN</td>\n",
       "      <td>26405</td>\n",
       "      <td>5</td>\n",
       "      <td>0</td>\n",
       "      <td>XL Pick-A-Size Paper Towel Rolls</td>\n",
       "      <td>...</td>\n",
       "      <td>40423</td>\n",
       "      <td>South</td>\n",
       "      <td>High Activity</td>\n",
       "      <td>18-34</td>\n",
       "      <td>Low income</td>\n",
       "      <td>Family</td>\n",
       "      <td>Vegan</td>\n",
       "      <td>No pets</td>\n",
       "      <td>Weekday</td>\n",
       "      <td>Morning</td>\n",
       "    </tr>\n",
       "  </tbody>\n",
       "</table>\n",
       "<p>5 rows × 37 columns</p>\n",
       "</div>"
      ],
      "text/plain": [
       "   order_id user_id  order_number  order_day_of_week  order_hour_of_day  \\\n",
       "0   2539329       1             1                  2                  8   \n",
       "1   2539329       1             1                  2                  8   \n",
       "2   2539329       1             1                  2                  8   \n",
       "3   2539329       1             1                  2                  8   \n",
       "4   2539329       1             1                  2                  8   \n",
       "\n",
       "   days_since_prior_order  product_id  add_to_cart_order  reordered  \\\n",
       "0                     NaN         196                  1          0   \n",
       "1                     NaN       14084                  2          0   \n",
       "2                     NaN       12427                  3          0   \n",
       "3                     NaN       26088                  4          0   \n",
       "4                     NaN       26405                  5          0   \n",
       "\n",
       "                              product_name  ...  income  Region  \\\n",
       "0                                     Soda  ...   40423   South   \n",
       "1  Organic Unsweetened Vanilla Almond Milk  ...   40423   South   \n",
       "2                      Original Beef Jerky  ...   40423   South   \n",
       "3               Aged White Cheddar Popcorn  ...   40423   South   \n",
       "4         XL Pick-A-Size Paper Towel Rolls  ...   40423   South   \n",
       "\n",
       "   exclusion_flag age_range income_flag  Family_flag        Diet  Pet_owner  \\\n",
       "0   High Activity     18-34  Low income       Family       Vegan    No pets   \n",
       "1   High Activity     18-34  Low income       Family  Vegetarian    No pets   \n",
       "2   High Activity     18-34  Low income       Family       Vegan    No pets   \n",
       "3   High Activity     18-34  Low income       Family       Vegan    No pets   \n",
       "4   High Activity     18-34  Low income       Family       Vegan    No pets   \n",
       "\n",
       "  Weekend_flag  Time_of_day_flag  \n",
       "0      Weekday           Morning  \n",
       "1      Weekday           Morning  \n",
       "2      Weekday           Morning  \n",
       "3      Weekday           Morning  \n",
       "4      Weekday           Morning  \n",
       "\n",
       "[5 rows x 37 columns]"
      ]
     },
     "execution_count": 5,
     "metadata": {},
     "output_type": "execute_result"
    }
   ],
   "source": [
    "df.head()"
   ]
  },
  {
   "cell_type": "code",
   "execution_count": 6,
   "id": "6425738a",
   "metadata": {},
   "outputs": [
    {
     "data": {
      "text/plain": [
       "Index(['order_id', 'user_id', 'order_number', 'order_day_of_week',\n",
       "       'order_hour_of_day', 'days_since_prior_order', 'product_id',\n",
       "       'add_to_cart_order', 'reordered', 'product_name', 'aisle_id',\n",
       "       'department_id', 'prices', 'product_price_range',\n",
       "       'busiest_period_of_day', 'max_order', 'loyalty_flag',\n",
       "       'average_basket_spend', 'High/Low_Spender', 'median_order_frequency',\n",
       "       'Order_frequency_flag', 'Gender', 'State', 'Age', 'date_joined',\n",
       "       'No_of_dependants', 'Family_status', 'income', 'Region',\n",
       "       'exclusion_flag', 'age_range', 'income_flag', 'Family_flag', 'Diet',\n",
       "       'Pet_owner', 'Weekend_flag', 'Time_of_day_flag'],\n",
       "      dtype='object')"
      ]
     },
     "execution_count": 6,
     "metadata": {},
     "output_type": "execute_result"
    }
   ],
   "source": [
    "df.columns"
   ]
  },
  {
   "cell_type": "markdown",
   "id": "2f548d49",
   "metadata": {},
   "source": [
    "# 02. What are the busiest days of the week and hours of the day?"
   ]
  },
  {
   "cell_type": "code",
   "execution_count": 26,
   "id": "cd196557",
   "metadata": {},
   "outputs": [
    {
     "data": {
      "text/plain": [
       "Text(0, 0.5, 'Frequency')"
      ]
     },
     "execution_count": 26,
     "metadata": {},
     "output_type": "execute_result"
    },
    {
     "data": {
      "image/png": "[encoded data removed]",
      "text/plain": [
       "<Figure size 432x288 with 1 Axes>"
      ]
     },
     "metadata": {
      "needs_background": "light"
     },
     "output_type": "display_data"
    }
   ],
   "source": [
    "# Histogram to show distribution of orders throughout day\n",
    "\n",
    "hour_freq_hist = df['order_hour_of_day'].plot.hist(bins = 24)\n",
    "plt.title(' Busiest hours of the day', fontsize = 14)\n",
    "plt.xlabel('Hour of the Day', fontsize = 12)\n",
    "plt.ylabel('Frequency', fontsize = 12)"
   ]
  },
  {
   "cell_type": "code",
   "execution_count": 28,
   "id": "e83ab750",
   "metadata": {},
   "outputs": [],
   "source": [
    "# Export histogram to folder \n",
    "\n",
    "hour_freq_hist.figure.savefig(os.path.join(path, '04 Analysis', 'Visulaisations', 'hour_freq_hist_png'))"
   ]
  },
  {
   "cell_type": "code",
   "execution_count": 31,
   "id": "10a92fb0",
   "metadata": {},
   "outputs": [
    {
     "data": {
      "text/plain": [
       "Text(0.5, 0, 'No. of orders')"
      ]
     },
     "execution_count": 31,
     "metadata": {},
     "output_type": "execute_result"
    },
    {
     "data": {
      "image/png": "[encoded data removed]",
      "text/plain": [
       "<Figure size 432x288 with 1 Axes>"
      ]
     },
     "metadata": {
      "needs_background": "light"
     },
     "output_type": "display_data"
    }
   ],
   "source": [
    "# Horizontal Bar to show peak time of day and best times to target ads to increase order volume \n",
    "\n",
    "bar_time_flag = df['Time_of_day_flag'].value_counts().plot.barh(color = ['steelblue', 'lightslategrey','lightslategrey','lightslategrey','steelblue',])\n",
    "plt.title('Busiest times of day - Peak is 9am - 5pm')\n",
    "plt.xlabel('No. of orders')"
   ]
  },
  {
   "cell_type": "code",
   "execution_count": 30,
   "id": "96de93b3",
   "metadata": {},
   "outputs": [],
   "source": [
    "# Export horizontal bar to folder\n",
    "\n",
    "bar_time_flag.figure.savefig(os.path.join(path, '04 Analysis', 'Visualisations', 'bar_time_flag'))"
   ]
  },
  {
   "cell_type": "code",
   "execution_count": 36,
   "id": "955763bf",
   "metadata": {},
   "outputs": [
    {
     "data": {
      "text/plain": [
       "Text(0, 0.5, 'No. of orders')"
      ]
     },
     "execution_count": 36,
     "metadata": {},
     "output_type": "execute_result"
    },
    {
     "data": {
      "image/png": "[encoded data removed]",
      "text/plain": [
       "<Figure size 432x288 with 1 Axes>"
      ]
     },
     "metadata": {
      "needs_background": "light"
     },
     "output_type": "display_data"
    }
   ],
   "source": [
    "# Show busiest days of the week using bar chart \n",
    "\n",
    "bar_days = df['order_day_of_week'].value_counts().sort_index().plot.bar(color = ['steelblue', 'steelblue','lightblue', 'lightblue', 'lightblue', 'lightblue','lightslategrey'])\n",
    "plt.title('Busiest days of the week')\n",
    "plt.ylabel('No. of orders')"
   ]
  },
  {
   "cell_type": "code",
   "execution_count": 51,
   "id": "e1df6a8e",
   "metadata": {},
   "outputs": [],
   "source": [
    "# Export bar to folder\n",
    "\n",
    "bar_days.figure.savefig(os.path.join(path, '04 Analysis', 'Visualisations', 'bar_days'))"
   ]
  },
  {
   "cell_type": "code",
   "execution_count": 37,
   "id": "7e4a772b",
   "metadata": {},
   "outputs": [
    {
     "data": {
      "text/plain": [
       "Weekend_flag  order_hour_of_day\n",
       "Weekday       10                   1629615\n",
       "              11                   1618945\n",
       "              14                   1600172\n",
       "              15                   1593625\n",
       "              13                   1573793\n",
       "              12                   1548540\n",
       "              16                   1542512\n",
       "              9                    1453196\n",
       "              17                   1289762\n",
       "              8                    1042219\n",
       "              18                   1038335\n",
       "              19                    801356\n",
       "              20                    611457\n",
       "              7                     574387\n",
       "              21                    502406\n",
       "              22                    404354\n",
       "              23                    262369\n",
       "              6                     196525\n",
       "              0                     135516\n",
       "              1                      71114\n",
       "              5                      59677\n",
       "              2                      43361\n",
       "              4                      35445\n",
       "              3                      33666\n",
       "Weekend       10                   1022752\n",
       "              11                    998343\n",
       "              14                    970086\n",
       "              13                    967784\n",
       "              12                    949503\n",
       "              15                    944674\n",
       "              9                     912878\n",
       "              16                    873367\n",
       "              17                    694349\n",
       "              8                     618690\n",
       "              18                    514233\n",
       "              19                    393575\n",
       "              20                    320300\n",
       "              7                     289696\n",
       "              21                    261415\n",
       "              22                    203203\n",
       "              23                    122470\n",
       "              6                      84783\n",
       "              0                      72701\n",
       "              1                      38592\n",
       "              5                      24838\n",
       "              2                      22383\n",
       "              4                      15358\n",
       "              3                      15169\n",
       "Name: order_hour_of_day, dtype: int64"
      ]
     },
     "execution_count": 37,
     "metadata": {},
     "output_type": "execute_result"
    }
   ],
   "source": [
    "df.groupby('Weekend_flag')['order_hour_of_day'].value_counts()"
   ]
  },
  {
   "cell_type": "code",
   "execution_count": 46,
   "id": "f11f7d8e",
   "metadata": {},
   "outputs": [],
   "source": [
    "# Is there a difference to ordering habits on the weekend?\n",
    "\n",
    "crosstab_weekend_hours = pd.crosstab(df['order_hour_of_day'],df['Weekend_flag'])\n",
    "crosstab_weekend_hours.to_clipboard()"
   ]
  },
  {
   "cell_type": "code",
   "execution_count": 47,
   "id": "762c3ce9",
   "metadata": {},
   "outputs": [],
   "source": [
    "# Do the weekdays differ in ordering habits?\n",
    "\n",
    "crosstab_day_hours = pd.crosstab(df['order_hour_of_day'],df['order_day_of_week'])\n",
    "crosstab_day_hours.to_clipboard()"
   ]
  },
  {
   "cell_type": "markdown",
   "id": "04bacb9e",
   "metadata": {},
   "source": [
    "# 03 Is there a time of day when people spend more money?"
   ]
  },
  {
   "cell_type": "code",
   "execution_count": 54,
   "id": "f96ad003",
   "metadata": {},
   "outputs": [
    {
     "data": {
      "text/html": [
       "<div>\n",
       "<style scoped>\n",
       "    .dataframe tbody tr th:only-of-type {\n",
       "        vertical-align: middle;\n",
       "    }\n",
       "\n",
       "    .dataframe tbody tr th {\n",
       "        vertical-align: top;\n",
       "    }\n",
       "\n",
       "    .dataframe thead tr th {\n",
       "        text-align: left;\n",
       "    }\n",
       "\n",
       "    .dataframe thead tr:last-of-type th {\n",
       "        text-align: right;\n",
       "    }\n",
       "</style>\n",
       "<table border=\"1\" class=\"dataframe\">\n",
       "  <thead>\n",
       "    <tr>\n",
       "      <th></th>\n",
       "      <th colspan=\"2\" halign=\"left\">prices</th>\n",
       "    </tr>\n",
       "    <tr>\n",
       "      <th></th>\n",
       "      <th>median</th>\n",
       "      <th>mean</th>\n",
       "    </tr>\n",
       "    <tr>\n",
       "      <th>order_hour_of_day</th>\n",
       "      <th></th>\n",
       "      <th></th>\n",
       "    </tr>\n",
       "  </thead>\n",
       "  <tbody>\n",
       "    <tr>\n",
       "      <th>0</th>\n",
       "      <td>7.4</td>\n",
       "      <td>7.811140</td>\n",
       "    </tr>\n",
       "    <tr>\n",
       "      <th>1</th>\n",
       "      <td>7.4</td>\n",
       "      <td>7.805799</td>\n",
       "    </tr>\n",
       "    <tr>\n",
       "      <th>2</th>\n",
       "      <td>7.4</td>\n",
       "      <td>7.802488</td>\n",
       "    </tr>\n",
       "    <tr>\n",
       "      <th>3</th>\n",
       "      <td>7.5</td>\n",
       "      <td>7.828424</td>\n",
       "    </tr>\n",
       "    <tr>\n",
       "      <th>4</th>\n",
       "      <td>7.5</td>\n",
       "      <td>7.840929</td>\n",
       "    </tr>\n",
       "    <tr>\n",
       "      <th>5</th>\n",
       "      <td>7.5</td>\n",
       "      <td>7.830000</td>\n",
       "    </tr>\n",
       "    <tr>\n",
       "      <th>6</th>\n",
       "      <td>7.4</td>\n",
       "      <td>7.818849</td>\n",
       "    </tr>\n",
       "    <tr>\n",
       "      <th>7</th>\n",
       "      <td>7.4</td>\n",
       "      <td>7.820503</td>\n",
       "    </tr>\n",
       "    <tr>\n",
       "      <th>8</th>\n",
       "      <td>7.4</td>\n",
       "      <td>7.789009</td>\n",
       "    </tr>\n",
       "    <tr>\n",
       "      <th>9</th>\n",
       "      <td>7.3</td>\n",
       "      <td>7.751135</td>\n",
       "    </tr>\n",
       "    <tr>\n",
       "      <th>10</th>\n",
       "      <td>7.3</td>\n",
       "      <td>7.747307</td>\n",
       "    </tr>\n",
       "    <tr>\n",
       "      <th>11</th>\n",
       "      <td>7.3</td>\n",
       "      <td>7.769311</td>\n",
       "    </tr>\n",
       "    <tr>\n",
       "      <th>12</th>\n",
       "      <td>7.4</td>\n",
       "      <td>7.789116</td>\n",
       "    </tr>\n",
       "    <tr>\n",
       "      <th>13</th>\n",
       "      <td>7.4</td>\n",
       "      <td>7.792066</td>\n",
       "    </tr>\n",
       "    <tr>\n",
       "      <th>14</th>\n",
       "      <td>7.4</td>\n",
       "      <td>7.801575</td>\n",
       "    </tr>\n",
       "    <tr>\n",
       "      <th>15</th>\n",
       "      <td>7.4</td>\n",
       "      <td>7.804501</td>\n",
       "    </tr>\n",
       "    <tr>\n",
       "      <th>16</th>\n",
       "      <td>7.4</td>\n",
       "      <td>7.801075</td>\n",
       "    </tr>\n",
       "    <tr>\n",
       "      <th>17</th>\n",
       "      <td>7.4</td>\n",
       "      <td>7.806123</td>\n",
       "    </tr>\n",
       "    <tr>\n",
       "      <th>18</th>\n",
       "      <td>7.4</td>\n",
       "      <td>7.808081</td>\n",
       "    </tr>\n",
       "    <tr>\n",
       "      <th>19</th>\n",
       "      <td>7.4</td>\n",
       "      <td>7.793442</td>\n",
       "    </tr>\n",
       "    <tr>\n",
       "      <th>20</th>\n",
       "      <td>7.4</td>\n",
       "      <td>7.799472</td>\n",
       "    </tr>\n",
       "    <tr>\n",
       "      <th>21</th>\n",
       "      <td>7.4</td>\n",
       "      <td>7.804924</td>\n",
       "    </tr>\n",
       "    <tr>\n",
       "      <th>22</th>\n",
       "      <td>7.4</td>\n",
       "      <td>7.816106</td>\n",
       "    </tr>\n",
       "    <tr>\n",
       "      <th>23</th>\n",
       "      <td>7.4</td>\n",
       "      <td>7.795952</td>\n",
       "    </tr>\n",
       "  </tbody>\n",
       "</table>\n",
       "</div>"
      ],
      "text/plain": [
       "                  prices          \n",
       "                  median      mean\n",
       "order_hour_of_day                 \n",
       "0                    7.4  7.811140\n",
       "1                    7.4  7.805799\n",
       "2                    7.4  7.802488\n",
       "3                    7.5  7.828424\n",
       "4                    7.5  7.840929\n",
       "5                    7.5  7.830000\n",
       "6                    7.4  7.818849\n",
       "7                    7.4  7.820503\n",
       "8                    7.4  7.789009\n",
       "9                    7.3  7.751135\n",
       "10                   7.3  7.747307\n",
       "11                   7.3  7.769311\n",
       "12                   7.4  7.789116\n",
       "13                   7.4  7.792066\n",
       "14                   7.4  7.801575\n",
       "15                   7.4  7.804501\n",
       "16                   7.4  7.801075\n",
       "17                   7.4  7.806123\n",
       "18                   7.4  7.808081\n",
       "19                   7.4  7.793442\n",
       "20                   7.4  7.799472\n",
       "21                   7.4  7.804924\n",
       "22                   7.4  7.816106\n",
       "23                   7.4  7.795952"
      ]
     },
     "execution_count": 54,
     "metadata": {},
     "output_type": "execute_result"
    }
   ],
   "source": [
    "df.groupby('order_hour_of_day').agg({'prices':['median','mean']})"
   ]
  },
  {
   "cell_type": "code",
   "execution_count": 55,
   "id": "b65744f9",
   "metadata": {},
   "outputs": [
    {
     "data": {
      "text/html": [
       "<div>\n",
       "<style scoped>\n",
       "    .dataframe tbody tr th:only-of-type {\n",
       "        vertical-align: middle;\n",
       "    }\n",
       "\n",
       "    .dataframe tbody tr th {\n",
       "        vertical-align: top;\n",
       "    }\n",
       "\n",
       "    .dataframe thead tr th {\n",
       "        text-align: left;\n",
       "    }\n",
       "\n",
       "    .dataframe thead tr:last-of-type th {\n",
       "        text-align: right;\n",
       "    }\n",
       "</style>\n",
       "<table border=\"1\" class=\"dataframe\">\n",
       "  <thead>\n",
       "    <tr>\n",
       "      <th></th>\n",
       "      <th colspan=\"2\" halign=\"left\">prices</th>\n",
       "    </tr>\n",
       "    <tr>\n",
       "      <th></th>\n",
       "      <th>median</th>\n",
       "      <th>mean</th>\n",
       "    </tr>\n",
       "    <tr>\n",
       "      <th>Time_of_day_flag</th>\n",
       "      <th></th>\n",
       "      <th></th>\n",
       "    </tr>\n",
       "  </thead>\n",
       "  <tbody>\n",
       "    <tr>\n",
       "      <th>Afternoon</th>\n",
       "      <td>7.4</td>\n",
       "      <td>7.806982</td>\n",
       "    </tr>\n",
       "    <tr>\n",
       "      <th>Evening</th>\n",
       "      <td>7.4</td>\n",
       "      <td>7.800943</td>\n",
       "    </tr>\n",
       "    <tr>\n",
       "      <th>Morning</th>\n",
       "      <td>7.4</td>\n",
       "      <td>7.779395</td>\n",
       "    </tr>\n",
       "    <tr>\n",
       "      <th>Overnight</th>\n",
       "      <td>7.4</td>\n",
       "      <td>7.813629</td>\n",
       "    </tr>\n",
       "    <tr>\n",
       "      <th>Peak</th>\n",
       "      <td>7.4</td>\n",
       "      <td>7.786018</td>\n",
       "    </tr>\n",
       "  </tbody>\n",
       "</table>\n",
       "</div>"
      ],
      "text/plain": [
       "                 prices          \n",
       "                 median      mean\n",
       "Time_of_day_flag                 \n",
       "Afternoon           7.4  7.806982\n",
       "Evening             7.4  7.800943\n",
       "Morning             7.4  7.779395\n",
       "Overnight           7.4  7.813629\n",
       "Peak                7.4  7.786018"
      ]
     },
     "execution_count": 55,
     "metadata": {},
     "output_type": "execute_result"
    }
   ],
   "source": [
    "df.groupby('Time_of_day_flag').agg({'prices':['median','mean']})"
   ]
  },
  {
   "cell_type": "code",
   "execution_count": 57,
   "id": "b6954911",
   "metadata": {},
   "outputs": [
    {
     "data": {
      "text/html": [
       "<div>\n",
       "<style scoped>\n",
       "    .dataframe tbody tr th:only-of-type {\n",
       "        vertical-align: middle;\n",
       "    }\n",
       "\n",
       "    .dataframe tbody tr th {\n",
       "        vertical-align: top;\n",
       "    }\n",
       "\n",
       "    .dataframe thead tr th {\n",
       "        text-align: left;\n",
       "    }\n",
       "\n",
       "    .dataframe thead tr:last-of-type th {\n",
       "        text-align: right;\n",
       "    }\n",
       "</style>\n",
       "<table border=\"1\" class=\"dataframe\">\n",
       "  <thead>\n",
       "    <tr>\n",
       "      <th></th>\n",
       "      <th colspan=\"2\" halign=\"left\">prices</th>\n",
       "    </tr>\n",
       "    <tr>\n",
       "      <th></th>\n",
       "      <th>median</th>\n",
       "      <th>mean</th>\n",
       "    </tr>\n",
       "    <tr>\n",
       "      <th>order_day_of_week</th>\n",
       "      <th></th>\n",
       "      <th></th>\n",
       "    </tr>\n",
       "  </thead>\n",
       "  <tbody>\n",
       "    <tr>\n",
       "      <th>0</th>\n",
       "      <td>7.5</td>\n",
       "      <td>7.857027</td>\n",
       "    </tr>\n",
       "    <tr>\n",
       "      <th>1</th>\n",
       "      <td>7.3</td>\n",
       "      <td>7.756847</td>\n",
       "    </tr>\n",
       "    <tr>\n",
       "      <th>2</th>\n",
       "      <td>7.3</td>\n",
       "      <td>7.753440</td>\n",
       "    </tr>\n",
       "    <tr>\n",
       "      <th>3</th>\n",
       "      <td>7.3</td>\n",
       "      <td>7.756124</td>\n",
       "    </tr>\n",
       "    <tr>\n",
       "      <th>4</th>\n",
       "      <td>7.3</td>\n",
       "      <td>7.755473</td>\n",
       "    </tr>\n",
       "    <tr>\n",
       "      <th>5</th>\n",
       "      <td>7.3</td>\n",
       "      <td>7.760249</td>\n",
       "    </tr>\n",
       "    <tr>\n",
       "      <th>6</th>\n",
       "      <td>7.5</td>\n",
       "      <td>7.856932</td>\n",
       "    </tr>\n",
       "  </tbody>\n",
       "</table>\n",
       "</div>"
      ],
      "text/plain": [
       "                  prices          \n",
       "                  median      mean\n",
       "order_day_of_week                 \n",
       "0                    7.5  7.857027\n",
       "1                    7.3  7.756847\n",
       "2                    7.3  7.753440\n",
       "3                    7.3  7.756124\n",
       "4                    7.3  7.755473\n",
       "5                    7.3  7.760249\n",
       "6                    7.5  7.856932"
      ]
     },
     "execution_count": 57,
     "metadata": {},
     "output_type": "execute_result"
    }
   ],
   "source": [
    "df.groupby('order_day_of_week').agg({'prices':['median','mean']})"
   ]
  },
  {
   "cell_type": "markdown",
   "id": "bb3cbf52",
   "metadata": {},
   "source": [
    "# 04 Suggest smaller price range groupings for targeting marketing campaigns"
   ]
  },
  {
   "cell_type": "code",
   "execution_count": 58,
   "id": "61610c01",
   "metadata": {},
   "outputs": [
    {
     "data": {
      "text/html": [
       "<div>\n",
       "<style scoped>\n",
       "    .dataframe tbody tr th:only-of-type {\n",
       "        vertical-align: middle;\n",
       "    }\n",
       "\n",
       "    .dataframe tbody tr th {\n",
       "        vertical-align: top;\n",
       "    }\n",
       "\n",
       "    .dataframe thead tr th {\n",
       "        text-align: left;\n",
       "    }\n",
       "\n",
       "    .dataframe thead tr:last-of-type th {\n",
       "        text-align: right;\n",
       "    }\n",
       "</style>\n",
       "<table border=\"1\" class=\"dataframe\">\n",
       "  <thead>\n",
       "    <tr>\n",
       "      <th></th>\n",
       "      <th colspan=\"2\" halign=\"left\">prices</th>\n",
       "    </tr>\n",
       "    <tr>\n",
       "      <th></th>\n",
       "      <th>median</th>\n",
       "      <th>mean</th>\n",
       "    </tr>\n",
       "    <tr>\n",
       "      <th>product_price_range</th>\n",
       "      <th></th>\n",
       "      <th></th>\n",
       "    </tr>\n",
       "  </thead>\n",
       "  <tbody>\n",
       "    <tr>\n",
       "      <th>High range product</th>\n",
       "      <td>20.8</td>\n",
       "      <td>20.378565</td>\n",
       "    </tr>\n",
       "    <tr>\n",
       "      <th>Low range product</th>\n",
       "      <td>3.1</td>\n",
       "      <td>3.023833</td>\n",
       "    </tr>\n",
       "    <tr>\n",
       "      <th>Mid range product</th>\n",
       "      <td>9.5</td>\n",
       "      <td>9.756778</td>\n",
       "    </tr>\n",
       "  </tbody>\n",
       "</table>\n",
       "</div>"
      ],
      "text/plain": [
       "                    prices           \n",
       "                    median       mean\n",
       "product_price_range                  \n",
       "High range product    20.8  20.378565\n",
       "Low range product      3.1   3.023833\n",
       "Mid range product      9.5   9.756778"
      ]
     },
     "execution_count": 58,
     "metadata": {},
     "output_type": "execute_result"
    }
   ],
   "source": [
    "df.groupby('product_price_range').agg({'prices':['median','mean']})"
   ]
  },
  {
   "cell_type": "code",
   "execution_count": 61,
   "id": "f44ded8d",
   "metadata": {},
   "outputs": [],
   "source": [
    "crosstab_price_range = pd.crosstab(df['product_price_range'],df['High/Low_Spender'])\n",
    "crosstab_price_range.to_clipboard()"
   ]
  },
  {
   "attachments": {},
   "cell_type": "markdown",
   "id": "19062088",
   "metadata": {},
   "source": [
    "# 05 Are there certain types of products that are more popular than others? "
   ]
  },
  {
   "cell_type": "code",
   "execution_count": 65,
   "id": "8bfe762e",
   "metadata": {},
   "outputs": [
    {
     "data": {
      "text/html": [
       "<div>\n",
       "<style scoped>\n",
       "    .dataframe tbody tr th:only-of-type {\n",
       "        vertical-align: middle;\n",
       "    }\n",
       "\n",
       "    .dataframe tbody tr th {\n",
       "        vertical-align: top;\n",
       "    }\n",
       "\n",
       "    .dataframe thead tr th {\n",
       "        text-align: left;\n",
       "    }\n",
       "\n",
       "    .dataframe thead tr:last-of-type th {\n",
       "        text-align: right;\n",
       "    }\n",
       "</style>\n",
       "<table border=\"1\" class=\"dataframe\">\n",
       "  <thead>\n",
       "    <tr>\n",
       "      <th></th>\n",
       "      <th colspan=\"4\" halign=\"left\">order_number</th>\n",
       "    </tr>\n",
       "    <tr>\n",
       "      <th></th>\n",
       "      <th>median</th>\n",
       "      <th>mean</th>\n",
       "      <th>max</th>\n",
       "      <th>min</th>\n",
       "    </tr>\n",
       "    <tr>\n",
       "      <th>department_id</th>\n",
       "      <th></th>\n",
       "      <th></th>\n",
       "      <th></th>\n",
       "      <th></th>\n",
       "    </tr>\n",
       "  </thead>\n",
       "  <tbody>\n",
       "    <tr>\n",
       "      <th>1.0</th>\n",
       "      <td>10.0</td>\n",
       "      <td>16.160731</td>\n",
       "      <td>99</td>\n",
       "      <td>1</td>\n",
       "    </tr>\n",
       "    <tr>\n",
       "      <th>2.0</th>\n",
       "      <td>12.0</td>\n",
       "      <td>18.096481</td>\n",
       "      <td>99</td>\n",
       "      <td>1</td>\n",
       "    </tr>\n",
       "    <tr>\n",
       "      <th>3.0</th>\n",
       "      <td>12.0</td>\n",
       "      <td>17.856619</td>\n",
       "      <td>99</td>\n",
       "      <td>1</td>\n",
       "    </tr>\n",
       "    <tr>\n",
       "      <th>4.0</th>\n",
       "      <td>12.0</td>\n",
       "      <td>18.495724</td>\n",
       "      <td>99</td>\n",
       "      <td>1</td>\n",
       "    </tr>\n",
       "    <tr>\n",
       "      <th>5.0</th>\n",
       "      <td>10.0</td>\n",
       "      <td>16.034226</td>\n",
       "      <td>99</td>\n",
       "      <td>1</td>\n",
       "    </tr>\n",
       "    <tr>\n",
       "      <th>6.0</th>\n",
       "      <td>11.0</td>\n",
       "      <td>17.174694</td>\n",
       "      <td>99</td>\n",
       "      <td>1</td>\n",
       "    </tr>\n",
       "    <tr>\n",
       "      <th>7.0</th>\n",
       "      <td>12.0</td>\n",
       "      <td>17.901479</td>\n",
       "      <td>99</td>\n",
       "      <td>1</td>\n",
       "    </tr>\n",
       "    <tr>\n",
       "      <th>8.0</th>\n",
       "      <td>11.0</td>\n",
       "      <td>15.995927</td>\n",
       "      <td>99</td>\n",
       "      <td>1</td>\n",
       "    </tr>\n",
       "    <tr>\n",
       "      <th>9.0</th>\n",
       "      <td>11.0</td>\n",
       "      <td>16.633019</td>\n",
       "      <td>99</td>\n",
       "      <td>1</td>\n",
       "    </tr>\n",
       "    <tr>\n",
       "      <th>10.0</th>\n",
       "      <td>14.0</td>\n",
       "      <td>20.797555</td>\n",
       "      <td>99</td>\n",
       "      <td>1</td>\n",
       "    </tr>\n",
       "    <tr>\n",
       "      <th>11.0</th>\n",
       "      <td>11.0</td>\n",
       "      <td>16.933392</td>\n",
       "      <td>99</td>\n",
       "      <td>1</td>\n",
       "    </tr>\n",
       "    <tr>\n",
       "      <th>12.0</th>\n",
       "      <td>11.0</td>\n",
       "      <td>16.576910</td>\n",
       "      <td>99</td>\n",
       "      <td>1</td>\n",
       "    </tr>\n",
       "    <tr>\n",
       "      <th>13.0</th>\n",
       "      <td>11.0</td>\n",
       "      <td>17.328319</td>\n",
       "      <td>99</td>\n",
       "      <td>1</td>\n",
       "    </tr>\n",
       "    <tr>\n",
       "      <th>14.0</th>\n",
       "      <td>11.0</td>\n",
       "      <td>17.469987</td>\n",
       "      <td>99</td>\n",
       "      <td>1</td>\n",
       "    </tr>\n",
       "    <tr>\n",
       "      <th>15.0</th>\n",
       "      <td>11.0</td>\n",
       "      <td>16.933858</td>\n",
       "      <td>99</td>\n",
       "      <td>1</td>\n",
       "    </tr>\n",
       "    <tr>\n",
       "      <th>16.0</th>\n",
       "      <td>12.0</td>\n",
       "      <td>18.324692</td>\n",
       "      <td>99</td>\n",
       "      <td>1</td>\n",
       "    </tr>\n",
       "    <tr>\n",
       "      <th>17.0</th>\n",
       "      <td>11.0</td>\n",
       "      <td>16.438892</td>\n",
       "      <td>99</td>\n",
       "      <td>1</td>\n",
       "    </tr>\n",
       "    <tr>\n",
       "      <th>18.0</th>\n",
       "      <td>14.0</td>\n",
       "      <td>19.867090</td>\n",
       "      <td>99</td>\n",
       "      <td>1</td>\n",
       "    </tr>\n",
       "    <tr>\n",
       "      <th>19.0</th>\n",
       "      <td>12.0</td>\n",
       "      <td>17.830354</td>\n",
       "      <td>99</td>\n",
       "      <td>1</td>\n",
       "    </tr>\n",
       "    <tr>\n",
       "      <th>20.0</th>\n",
       "      <td>11.0</td>\n",
       "      <td>17.144802</td>\n",
       "      <td>99</td>\n",
       "      <td>1</td>\n",
       "    </tr>\n",
       "    <tr>\n",
       "      <th>21.0</th>\n",
       "      <td>18.0</td>\n",
       "      <td>24.281327</td>\n",
       "      <td>99</td>\n",
       "      <td>1</td>\n",
       "    </tr>\n",
       "  </tbody>\n",
       "</table>\n",
       "</div>"
      ],
      "text/plain": [
       "              order_number                   \n",
       "                    median       mean max min\n",
       "department_id                                \n",
       "1.0                   10.0  16.160731  99   1\n",
       "2.0                   12.0  18.096481  99   1\n",
       "3.0                   12.0  17.856619  99   1\n",
       "4.0                   12.0  18.495724  99   1\n",
       "5.0                   10.0  16.034226  99   1\n",
       "6.0                   11.0  17.174694  99   1\n",
       "7.0                   12.0  17.901479  99   1\n",
       "8.0                   11.0  15.995927  99   1\n",
       "9.0                   11.0  16.633019  99   1\n",
       "10.0                  14.0  20.797555  99   1\n",
       "11.0                  11.0  16.933392  99   1\n",
       "12.0                  11.0  16.576910  99   1\n",
       "13.0                  11.0  17.328319  99   1\n",
       "14.0                  11.0  17.469987  99   1\n",
       "15.0                  11.0  16.933858  99   1\n",
       "16.0                  12.0  18.324692  99   1\n",
       "17.0                  11.0  16.438892  99   1\n",
       "18.0                  14.0  19.867090  99   1\n",
       "19.0                  12.0  17.830354  99   1\n",
       "20.0                  11.0  17.144802  99   1\n",
       "21.0                  18.0  24.281327  99   1"
      ]
     },
     "execution_count": 65,
     "metadata": {},
     "output_type": "execute_result"
    }
   ],
   "source": [
    "df.groupby('department_id').agg({'order_number':['median','mean','max','min']})"
   ]
  },
  {
   "cell_type": "code",
   "execution_count": 68,
   "id": "2e73fc91",
   "metadata": {},
   "outputs": [
    {
     "data": {
      "text/html": [
       "<div>\n",
       "<style scoped>\n",
       "    .dataframe tbody tr th:only-of-type {\n",
       "        vertical-align: middle;\n",
       "    }\n",
       "\n",
       "    .dataframe tbody tr th {\n",
       "        vertical-align: top;\n",
       "    }\n",
       "\n",
       "    .dataframe thead th {\n",
       "        text-align: right;\n",
       "    }\n",
       "</style>\n",
       "<table border=\"1\" class=\"dataframe\">\n",
       "  <thead>\n",
       "    <tr style=\"text-align: right;\">\n",
       "      <th>Order_frequency_flag</th>\n",
       "      <th>Frequent customer</th>\n",
       "      <th>Non-frequent customer</th>\n",
       "      <th>Regular customer</th>\n",
       "    </tr>\n",
       "    <tr>\n",
       "      <th>department_id</th>\n",
       "      <th></th>\n",
       "      <th></th>\n",
       "      <th></th>\n",
       "    </tr>\n",
       "  </thead>\n",
       "  <tbody>\n",
       "    <tr>\n",
       "      <th>False</th>\n",
       "      <td>20906508</td>\n",
       "      <td>2872183</td>\n",
       "      <td>6804406</td>\n",
       "    </tr>\n",
       "    <tr>\n",
       "      <th>True</th>\n",
       "      <td>316136</td>\n",
       "      <td>25287</td>\n",
       "      <td>68969</td>\n",
       "    </tr>\n",
       "  </tbody>\n",
       "</table>\n",
       "</div>"
      ],
      "text/plain": [
       "Order_frequency_flag  Frequent customer  Non-frequent customer  \\\n",
       "department_id                                                    \n",
       "False                          20906508                2872183   \n",
       "True                             316136                  25287   \n",
       "\n",
       "Order_frequency_flag  Regular customer  \n",
       "department_id                           \n",
       "False                          6804406  \n",
       "True                             68969  "
      ]
     },
     "execution_count": 68,
     "metadata": {},
     "output_type": "execute_result"
    }
   ],
   "source": [
    "# Create crosstab to further analyse department id 18 (babies)\n",
    "\n",
    "crosstab_babies_dept = pd.crosstab(df['department_id']==18, df['Order_frequency_flag'], dropna = False)\n",
    "crosstab_babies_dept"
   ]
  },
  {
   "cell_type": "markdown",
   "id": "bed2dcd4",
   "metadata": {},
   "source": [
    "# 06 Do different types of customers have different ordering behaviors?"
   ]
  },
  {
   "cell_type": "code",
   "execution_count": 70,
   "id": "5ce12d53",
   "metadata": {},
   "outputs": [
    {
     "data": {
      "text/html": [
       "<div>\n",
       "<style scoped>\n",
       "    .dataframe tbody tr th:only-of-type {\n",
       "        vertical-align: middle;\n",
       "    }\n",
       "\n",
       "    .dataframe tbody tr th {\n",
       "        vertical-align: top;\n",
       "    }\n",
       "\n",
       "    .dataframe thead th {\n",
       "        text-align: right;\n",
       "    }\n",
       "</style>\n",
       "<table border=\"1\" class=\"dataframe\">\n",
       "  <thead>\n",
       "    <tr style=\"text-align: right;\">\n",
       "      <th>income_flag</th>\n",
       "      <th>Average income</th>\n",
       "      <th>High income</th>\n",
       "      <th>Low income</th>\n",
       "      <th>Very high income</th>\n",
       "    </tr>\n",
       "    <tr>\n",
       "      <th>department_id</th>\n",
       "      <th></th>\n",
       "      <th></th>\n",
       "      <th></th>\n",
       "      <th></th>\n",
       "    </tr>\n",
       "  </thead>\n",
       "  <tbody>\n",
       "    <tr>\n",
       "      <th>1.0</th>\n",
       "      <td>1074462</td>\n",
       "      <td>522162</td>\n",
       "      <td>505256</td>\n",
       "      <td>19852</td>\n",
       "    </tr>\n",
       "    <tr>\n",
       "      <th>2.0</th>\n",
       "      <td>17193</td>\n",
       "      <td>8252</td>\n",
       "      <td>8495</td>\n",
       "      <td>471</td>\n",
       "    </tr>\n",
       "    <tr>\n",
       "      <th>3.0</th>\n",
       "      <td>568258</td>\n",
       "      <td>278203</td>\n",
       "      <td>261763</td>\n",
       "      <td>12604</td>\n",
       "    </tr>\n",
       "    <tr>\n",
       "      <th>4.0</th>\n",
       "      <td>4685350</td>\n",
       "      <td>2243873</td>\n",
       "      <td>2100660</td>\n",
       "      <td>49393</td>\n",
       "    </tr>\n",
       "    <tr>\n",
       "      <th>5.0</th>\n",
       "      <td>66878</td>\n",
       "      <td>34972</td>\n",
       "      <td>36650</td>\n",
       "      <td>6127</td>\n",
       "    </tr>\n",
       "    <tr>\n",
       "      <th>6.0</th>\n",
       "      <td>133456</td>\n",
       "      <td>63409</td>\n",
       "      <td>57089</td>\n",
       "      <td>2037</td>\n",
       "    </tr>\n",
       "    <tr>\n",
       "      <th>7.0</th>\n",
       "      <td>1215502</td>\n",
       "      <td>594695</td>\n",
       "      <td>737043</td>\n",
       "      <td>24661</td>\n",
       "    </tr>\n",
       "    <tr>\n",
       "      <th>8.0</th>\n",
       "      <td>46492</td>\n",
       "      <td>23092</td>\n",
       "      <td>21593</td>\n",
       "      <td>1883</td>\n",
       "    </tr>\n",
       "    <tr>\n",
       "      <th>9.0</th>\n",
       "      <td>431141</td>\n",
       "      <td>206331</td>\n",
       "      <td>177781</td>\n",
       "      <td>6883</td>\n",
       "    </tr>\n",
       "    <tr>\n",
       "      <th>10.0</th>\n",
       "      <td>16581</td>\n",
       "      <td>7523</td>\n",
       "      <td>9320</td>\n",
       "      <td>27</td>\n",
       "    </tr>\n",
       "    <tr>\n",
       "      <th>11.0</th>\n",
       "      <td>211215</td>\n",
       "      <td>102277</td>\n",
       "      <td>106777</td>\n",
       "      <td>4037</td>\n",
       "    </tr>\n",
       "    <tr>\n",
       "      <th>12.0</th>\n",
       "      <td>365820</td>\n",
       "      <td>177006</td>\n",
       "      <td>125796</td>\n",
       "      <td>6159</td>\n",
       "    </tr>\n",
       "    <tr>\n",
       "      <th>13.0</th>\n",
       "      <td>911804</td>\n",
       "      <td>441984</td>\n",
       "      <td>413041</td>\n",
       "      <td>15876</td>\n",
       "    </tr>\n",
       "    <tr>\n",
       "      <th>14.0</th>\n",
       "      <td>321864</td>\n",
       "      <td>156565</td>\n",
       "      <td>185892</td>\n",
       "      <td>6529</td>\n",
       "    </tr>\n",
       "    <tr>\n",
       "      <th>15.0</th>\n",
       "      <td>525957</td>\n",
       "      <td>257187</td>\n",
       "      <td>219841</td>\n",
       "      <td>9089</td>\n",
       "    </tr>\n",
       "    <tr>\n",
       "      <th>16.0</th>\n",
       "      <td>2645262</td>\n",
       "      <td>1271710</td>\n",
       "      <td>1215904</td>\n",
       "      <td>44307</td>\n",
       "    </tr>\n",
       "    <tr>\n",
       "      <th>17.0</th>\n",
       "      <td>340651</td>\n",
       "      <td>166086</td>\n",
       "      <td>181595</td>\n",
       "      <td>11526</td>\n",
       "    </tr>\n",
       "    <tr>\n",
       "      <th>18.0</th>\n",
       "      <td>221818</td>\n",
       "      <td>103667</td>\n",
       "      <td>82803</td>\n",
       "      <td>2104</td>\n",
       "    </tr>\n",
       "    <tr>\n",
       "      <th>19.0</th>\n",
       "      <td>1210554</td>\n",
       "      <td>579900</td>\n",
       "      <td>953000</td>\n",
       "      <td>22952</td>\n",
       "    </tr>\n",
       "    <tr>\n",
       "      <th>20.0</th>\n",
       "      <td>507050</td>\n",
       "      <td>244039</td>\n",
       "      <td>245437</td>\n",
       "      <td>7308</td>\n",
       "    </tr>\n",
       "    <tr>\n",
       "      <th>21.0</th>\n",
       "      <td>32661</td>\n",
       "      <td>16048</td>\n",
       "      <td>15742</td>\n",
       "      <td>317</td>\n",
       "    </tr>\n",
       "  </tbody>\n",
       "</table>\n",
       "</div>"
      ],
      "text/plain": [
       "income_flag    Average income  High income  Low income  Very high income\n",
       "department_id                                                           \n",
       "1.0                   1074462       522162      505256             19852\n",
       "2.0                     17193         8252        8495               471\n",
       "3.0                    568258       278203      261763             12604\n",
       "4.0                   4685350      2243873     2100660             49393\n",
       "5.0                     66878        34972       36650              6127\n",
       "6.0                    133456        63409       57089              2037\n",
       "7.0                   1215502       594695      737043             24661\n",
       "8.0                     46492        23092       21593              1883\n",
       "9.0                    431141       206331      177781              6883\n",
       "10.0                    16581         7523        9320                27\n",
       "11.0                   211215       102277      106777              4037\n",
       "12.0                   365820       177006      125796              6159\n",
       "13.0                   911804       441984      413041             15876\n",
       "14.0                   321864       156565      185892              6529\n",
       "15.0                   525957       257187      219841              9089\n",
       "16.0                  2645262      1271710     1215904             44307\n",
       "17.0                   340651       166086      181595             11526\n",
       "18.0                   221818       103667       82803              2104\n",
       "19.0                  1210554       579900      953000             22952\n",
       "20.0                   507050       244039      245437              7308\n",
       "21.0                    32661        16048       15742               317"
      ]
     },
     "execution_count": 70,
     "metadata": {},
     "output_type": "execute_result"
    }
   ],
   "source": [
    "# Create crosstab to look into income ranges and departments\n",
    "\n",
    "crosstab_income_flag_dept = pd.crosstab(df['department_id'], df['income_flag'], dropna = False)\n",
    "crosstab_income_flag_dept"
   ]
  },
  {
   "cell_type": "code",
   "execution_count": 71,
   "id": "c60343a4",
   "metadata": {},
   "outputs": [],
   "source": [
    "crosstab_income_flag_dept.to_clipboard()"
   ]
  },
  {
   "cell_type": "code",
   "execution_count": 73,
   "id": "5caa9bb7",
   "metadata": {},
   "outputs": [
    {
     "data": {
      "text/html": [
       "<div>\n",
       "<style scoped>\n",
       "    .dataframe tbody tr th:only-of-type {\n",
       "        vertical-align: middle;\n",
       "    }\n",
       "\n",
       "    .dataframe tbody tr th {\n",
       "        vertical-align: top;\n",
       "    }\n",
       "\n",
       "    .dataframe thead th {\n",
       "        text-align: right;\n",
       "    }\n",
       "</style>\n",
       "<table border=\"1\" class=\"dataframe\">\n",
       "  <thead>\n",
       "    <tr style=\"text-align: right;\">\n",
       "      <th>income_flag</th>\n",
       "      <th>Average income</th>\n",
       "      <th>High income</th>\n",
       "      <th>Low income</th>\n",
       "      <th>Very high income</th>\n",
       "    </tr>\n",
       "    <tr>\n",
       "      <th>product_price_range</th>\n",
       "      <th></th>\n",
       "      <th></th>\n",
       "      <th></th>\n",
       "      <th></th>\n",
       "    </tr>\n",
       "  </thead>\n",
       "  <tbody>\n",
       "    <tr>\n",
       "      <th>High range product</th>\n",
       "      <td>215450</td>\n",
       "      <td>106004</td>\n",
       "      <td>70507</td>\n",
       "      <td>5992</td>\n",
       "    </tr>\n",
       "    <tr>\n",
       "      <th>Low range product</th>\n",
       "      <td>4619279</td>\n",
       "      <td>2228817</td>\n",
       "      <td>2747863</td>\n",
       "      <td>78883</td>\n",
       "    </tr>\n",
       "    <tr>\n",
       "      <th>Mid range product</th>\n",
       "      <td>10715240</td>\n",
       "      <td>5164160</td>\n",
       "      <td>4843108</td>\n",
       "      <td>169267</td>\n",
       "    </tr>\n",
       "  </tbody>\n",
       "</table>\n",
       "</div>"
      ],
      "text/plain": [
       "income_flag          Average income  High income  Low income  Very high income\n",
       "product_price_range                                                           \n",
       "High range product           215450       106004       70507              5992\n",
       "Low range product           4619279      2228817     2747863             78883\n",
       "Mid range product          10715240      5164160     4843108            169267"
      ]
     },
     "execution_count": 73,
     "metadata": {},
     "output_type": "execute_result"
    }
   ],
   "source": [
    "crosstab_income_flag_price_range = pd.crosstab(df['product_price_range'], df['income_flag'], dropna = False)\n",
    "crosstab_income_flag_price_range"
   ]
  },
  {
   "cell_type": "code",
   "execution_count": 74,
   "id": "54aa0bf5",
   "metadata": {},
   "outputs": [],
   "source": [
    "crosstab_income_flag_price_range.to_clipboard()"
   ]
  },
  {
   "cell_type": "markdown",
   "id": "4873571c",
   "metadata": {},
   "source": [
    "# 07 Brand loyalty"
   ]
  },
  {
   "cell_type": "code",
   "execution_count": 79,
   "id": "463fcf4e",
   "metadata": {},
   "outputs": [
    {
     "data": {
      "text/plain": [
       "Regular customer    15891507\n",
       "Loyal customer      10294027\n",
       "New customer         4807955\n",
       "Name: loyalty_flag, dtype: int64"
      ]
     },
     "execution_count": 79,
     "metadata": {},
     "output_type": "execute_result"
    }
   ],
   "source": [
    "df['loyalty_flag'].value_counts(dropna = False)\n"
   ]
  },
  {
   "cell_type": "code",
   "execution_count": 91,
   "id": "e8db9b90",
   "metadata": {},
   "outputs": [],
   "source": [
    "crosstab_loyalty_regions = pd.crosstab(df['Region'], df['loyalty_flag'], dropna = False)\n",
    "crosstab_loyalty_regions\n",
    "crosstab_loyalty_regions.to_clipboard()"
   ]
  },
  {
   "cell_type": "code",
   "execution_count": 90,
   "id": "a8080252",
   "metadata": {},
   "outputs": [
    {
     "data": {
      "image/png": "[encoded data removed]",
      "text/plain": [
       "<Figure size 432x288 with 1 Axes>"
      ]
     },
     "metadata": {
      "needs_background": "light"
     },
     "output_type": "display_data"
    }
   ],
   "source": [
    "region_loyalty_bar = crosstab_loyalty_regions.plot.barh(stacked = True, color = ['lightslategrey','steelblue', 'lightblue'])"
   ]
  },
  {
   "cell_type": "code",
   "execution_count": 93,
   "id": "145af07e",
   "metadata": {},
   "outputs": [],
   "source": [
    "crosstab_loyalty_income = pd.crosstab(df['income_flag'], df['loyalty_flag'], dropna = False)\n",
    "crosstab_loyalty_income\n",
    "crosstab_loyalty_income.to_clipboard()"
   ]
  },
  {
   "cell_type": "markdown",
   "id": "c646ddd4",
   "metadata": {},
   "source": [
    "# 08 Family Status insights"
   ]
  },
  {
   "cell_type": "code",
   "execution_count": 95,
   "id": "66700e22",
   "metadata": {},
   "outputs": [],
   "source": [
    "crosstab_dept_family = pd.crosstab(df['Family_flag'], df['department_id'], dropna = False)\n",
    "crosstab_dept_family\n",
    "crosstab_dept_family.to_clipboard()"
   ]
  },
  {
   "cell_type": "code",
   "execution_count": 96,
   "id": "7419f80e",
   "metadata": {},
   "outputs": [
    {
     "data": {
      "text/html": [
       "<div>\n",
       "<style scoped>\n",
       "    .dataframe tbody tr th:only-of-type {\n",
       "        vertical-align: middle;\n",
       "    }\n",
       "\n",
       "    .dataframe tbody tr th {\n",
       "        vertical-align: top;\n",
       "    }\n",
       "\n",
       "    .dataframe thead th {\n",
       "        text-align: right;\n",
       "    }\n",
       "</style>\n",
       "<table border=\"1\" class=\"dataframe\">\n",
       "  <thead>\n",
       "    <tr style=\"text-align: right;\">\n",
       "      <th>Family_flag</th>\n",
       "      <th>Family</th>\n",
       "      <th>Individual</th>\n",
       "    </tr>\n",
       "    <tr>\n",
       "      <th>department_id</th>\n",
       "      <th></th>\n",
       "      <th></th>\n",
       "    </tr>\n",
       "  </thead>\n",
       "  <tbody>\n",
       "    <tr>\n",
       "      <th>False</th>\n",
       "      <td>22939242</td>\n",
       "      <td>7643855</td>\n",
       "    </tr>\n",
       "    <tr>\n",
       "      <th>True</th>\n",
       "      <td>307064</td>\n",
       "      <td>103328</td>\n",
       "    </tr>\n",
       "  </tbody>\n",
       "</table>\n",
       "</div>"
      ],
      "text/plain": [
       "Family_flag      Family  Individual\n",
       "department_id                      \n",
       "False          22939242     7643855\n",
       "True             307064      103328"
      ]
     },
     "execution_count": 96,
     "metadata": {},
     "output_type": "execute_result"
    }
   ],
   "source": [
    "# Create crosstab to further analyse department id 18 (babies) and family_flag\n",
    "\n",
    "crosstab_babies_dept_fam = pd.crosstab(df['department_id']==18, df['Family_flag'], dropna = False)\n",
    "crosstab_babies_dept_fam"
   ]
  },
  {
   "cell_type": "code",
   "execution_count": 97,
   "id": "1606f688",
   "metadata": {},
   "outputs": [
    {
     "data": {
      "text/html": [
       "<div>\n",
       "<style scoped>\n",
       "    .dataframe tbody tr th:only-of-type {\n",
       "        vertical-align: middle;\n",
       "    }\n",
       "\n",
       "    .dataframe tbody tr th {\n",
       "        vertical-align: top;\n",
       "    }\n",
       "\n",
       "    .dataframe thead th {\n",
       "        text-align: right;\n",
       "    }\n",
       "</style>\n",
       "<table border=\"1\" class=\"dataframe\">\n",
       "  <thead>\n",
       "    <tr style=\"text-align: right;\">\n",
       "      <th>Family_flag</th>\n",
       "      <th>Family</th>\n",
       "      <th>Individual</th>\n",
       "    </tr>\n",
       "    <tr>\n",
       "      <th>No_of_dependants</th>\n",
       "      <th></th>\n",
       "      <th></th>\n",
       "    </tr>\n",
       "  </thead>\n",
       "  <tbody>\n",
       "    <tr>\n",
       "      <th>0</th>\n",
       "      <td>0</td>\n",
       "      <td>7747183</td>\n",
       "    </tr>\n",
       "    <tr>\n",
       "      <th>1</th>\n",
       "      <td>7726129</td>\n",
       "      <td>0</td>\n",
       "    </tr>\n",
       "    <tr>\n",
       "      <th>2</th>\n",
       "      <td>7740539</td>\n",
       "      <td>0</td>\n",
       "    </tr>\n",
       "    <tr>\n",
       "      <th>3</th>\n",
       "      <td>7779638</td>\n",
       "      <td>0</td>\n",
       "    </tr>\n",
       "  </tbody>\n",
       "</table>\n",
       "</div>"
      ],
      "text/plain": [
       "Family_flag        Family  Individual\n",
       "No_of_dependants                     \n",
       "0                       0     7747183\n",
       "1                 7726129           0\n",
       "2                 7740539           0\n",
       "3                 7779638           0"
      ]
     },
     "execution_count": 97,
     "metadata": {},
     "output_type": "execute_result"
    }
   ],
   "source": [
    "# Create crosstab to further analyse individual and no_of_dependants\n",
    "\n",
    "crosstab_babies_dependants_fam = pd.crosstab(df['No_of_dependants'], df['Family_flag'], dropna = False)\n",
    "crosstab_babies_dependants_fam"
   ]
  },
  {
   "cell_type": "code",
   "execution_count": 100,
   "id": "a8eebf5f",
   "metadata": {},
   "outputs": [],
   "source": [
    "# Is there a correlation between family status and spending power?\n",
    "\n",
    "crosstab_dept_family = pd.crosstab(df['Family_flag'], df['income_flag'], dropna = False)\n",
    "crosstab_dept_family\n",
    "crosstab_dept_family.to_clipboard()"
   ]
  },
  {
   "cell_type": "code",
   "execution_count": 101,
   "id": "461479c1",
   "metadata": {},
   "outputs": [],
   "source": [
    "# Is there a correlation between family status and day order is placed?\n",
    "\n",
    "crosstab_day_flag_family = pd.crosstab(df['Family_flag'], df['Weekend_flag'], dropna = False)\n",
    "crosstab_day_flag_family\n",
    "crosstab_day_flag_family.to_clipboard()"
   ]
  },
  {
   "cell_type": "code",
   "execution_count": 102,
   "id": "afeba201",
   "metadata": {},
   "outputs": [],
   "source": [
    "# Is there a correlation between family status and day order is placed?\n",
    "\n",
    "crosstab_day_flag_family = pd.crosstab(df['Family_status'], df['Weekend_flag'], dropna = False)\n",
    "crosstab_day_flag_family\n",
    "crosstab_day_flag_family.to_clipboard()"
   ]
  },
  {
   "cell_type": "code",
   "execution_count": 104,
   "id": "505a75e1",
   "metadata": {},
   "outputs": [],
   "source": [
    "# Is there a correlation between number of children and day order is placed?\n",
    "\n",
    "crosstab_day_No_dependants = pd.crosstab(df['No_of_dependants'], df['Weekend_flag'], dropna = False)\n",
    "crosstab_day_No_dependants.to_clipboard()"
   ]
  },
  {
   "cell_type": "code",
   "execution_count": 105,
   "id": "fc0c5545",
   "metadata": {},
   "outputs": [],
   "source": [
    "# Is there a correlation between family status and time of day order is placed?\n",
    "\n",
    "crosstab_time_family = pd.crosstab(df['Family_flag'], df['Time_of_day_flag'], dropna = False)\n",
    "crosstab_time_family.to_clipboard()"
   ]
  },
  {
   "cell_type": "code",
   "execution_count": 106,
   "id": "ec949313",
   "metadata": {},
   "outputs": [],
   "source": [
    "# Is there a correlation between region and spending?\n",
    "\n",
    "crosstab_spend_region = pd.crosstab(df['Region'], df['High/Low_Spender'], dropna = False)\n",
    "crosstab_spend_region.to_clipboard()"
   ]
  },
  {
   "cell_type": "code",
   "execution_count": 108,
   "id": "3571b5d3",
   "metadata": {},
   "outputs": [],
   "source": [
    "# Is there a correlation between region and family status?\n",
    "\n",
    "crosstab_fam_region = pd.crosstab(df['Region'], df['Family_flag'], dropna = False)\n",
    "crosstab_fam_region.to_clipboard()"
   ]
  },
  {
   "cell_type": "code",
   "execution_count": 109,
   "id": "bc97840c",
   "metadata": {},
   "outputs": [
    {
     "data": {
      "image/png": "[encoded data removed]",
      "text/plain": [
       "<Figure size 432x288 with 1 Axes>"
      ]
     },
     "metadata": {
      "needs_background": "light"
     },
     "output_type": "display_data"
    }
   ],
   "source": [
    "fam_region_bar = crosstab_fam_region.plot.barh(stacked = True, color = ['lightslategrey','steelblue'])"
   ]
  },
  {
   "cell_type": "code",
   "execution_count": 110,
   "id": "b69eb869",
   "metadata": {},
   "outputs": [],
   "source": [
    "# Is there a correlation between region and family status?\n",
    "\n",
    "crosstab_fam_status_region = pd.crosstab(df['Region'], df['Family_status'], dropna = False)\n",
    "crosstab_fam_status_region.to_clipboard()"
   ]
  },
  {
   "cell_type": "code",
   "execution_count": 111,
   "id": "ae019a73",
   "metadata": {},
   "outputs": [],
   "source": [
    "# Is there a correlation between region and income?\n",
    "\n",
    "crosstab_income_region = pd.crosstab(df['Region'], df['income_flag'], dropna = False)\n",
    "crosstab_income_region.to_clipboard()"
   ]
  },
  {
   "cell_type": "code",
   "execution_count": 113,
   "id": "94264de1",
   "metadata": {},
   "outputs": [
    {
     "data": {
      "image/png": "[encoded data removed]",
      "text/plain": [
       "<Figure size 432x288 with 1 Axes>"
      ]
     },
     "metadata": {
      "needs_background": "light"
     },
     "output_type": "display_data"
    }
   ],
   "source": [
    "income_region_bar = crosstab_income_region.plot.barh(stacked = True, color = ['lightblue', 'steelblue', 'lightslategrey','orange'])"
   ]
  },
  {
   "cell_type": "code",
   "execution_count": 116,
   "id": "c6a95685",
   "metadata": {},
   "outputs": [
    {
     "data": {
      "text/html": [
       "<div>\n",
       "<style scoped>\n",
       "    .dataframe tbody tr th:only-of-type {\n",
       "        vertical-align: middle;\n",
       "    }\n",
       "\n",
       "    .dataframe tbody tr th {\n",
       "        vertical-align: top;\n",
       "    }\n",
       "\n",
       "    .dataframe thead tr th {\n",
       "        text-align: left;\n",
       "    }\n",
       "\n",
       "    .dataframe thead tr:last-of-type th {\n",
       "        text-align: right;\n",
       "    }\n",
       "</style>\n",
       "<table border=\"1\" class=\"dataframe\">\n",
       "  <thead>\n",
       "    <tr>\n",
       "      <th></th>\n",
       "      <th colspan=\"2\" halign=\"left\">order_number</th>\n",
       "    </tr>\n",
       "    <tr>\n",
       "      <th></th>\n",
       "      <th>median</th>\n",
       "      <th>mean</th>\n",
       "    </tr>\n",
       "    <tr>\n",
       "      <th>age_range</th>\n",
       "      <th></th>\n",
       "      <th></th>\n",
       "    </tr>\n",
       "  </thead>\n",
       "  <tbody>\n",
       "    <tr>\n",
       "      <th>18-34</th>\n",
       "      <td>12.0</td>\n",
       "      <td>17.816112</td>\n",
       "    </tr>\n",
       "    <tr>\n",
       "      <th>35-49</th>\n",
       "      <td>12.0</td>\n",
       "      <td>17.906241</td>\n",
       "    </tr>\n",
       "    <tr>\n",
       "      <th>50-64</th>\n",
       "      <td>12.0</td>\n",
       "      <td>17.836956</td>\n",
       "    </tr>\n",
       "    <tr>\n",
       "      <th>65+</th>\n",
       "      <td>12.0</td>\n",
       "      <td>17.783976</td>\n",
       "    </tr>\n",
       "  </tbody>\n",
       "</table>\n",
       "</div>"
      ],
      "text/plain": [
       "          order_number           \n",
       "                median       mean\n",
       "age_range                        \n",
       "18-34             12.0  17.816112\n",
       "35-49             12.0  17.906241\n",
       "50-64             12.0  17.836956\n",
       "65+               12.0  17.783976"
      ]
     },
     "execution_count": 116,
     "metadata": {},
     "output_type": "execute_result"
    }
   ],
   "source": [
    "# Do age and family status affect ordering habits ?\n",
    "\n",
    "df.groupby('age_range').agg({'order_number':['median','mean']})"
   ]
  },
  {
   "cell_type": "code",
   "execution_count": 121,
   "id": "a23f6db0",
   "metadata": {},
   "outputs": [],
   "source": [
    "# Is there a correlation between order frequency and family status?\n",
    "\n",
    "crosstab_freq_age = pd.crosstab(df['age_range'], df['Order_frequency_flag'], dropna = False)\n",
    "crosstab_freq_age.to_clipboard()"
   ]
  },
  {
   "cell_type": "code",
   "execution_count": 123,
   "id": "ca7a01d0",
   "metadata": {},
   "outputs": [
    {
     "data": {
      "text/plain": [
       "Text(0.5, 0, 'Order frequency')"
      ]
     },
     "execution_count": 123,
     "metadata": {},
     "output_type": "execute_result"
    },
    {
     "data": {
      "image/png": "[encoded data removed]",
      "text/plain": [
       "<Figure size 432x288 with 1 Axes>"
      ]
     },
     "metadata": {
      "needs_background": "light"
     },
     "output_type": "display_data"
    }
   ],
   "source": [
    "age_frequency_bar = crosstab_freq_age.plot.barh(stacked = True, color = ['lightblue', 'steelblue', 'lightslategrey'])\n",
    "plt.title('Age group and frequency of ordering')\n",
    "plt.xlabel('Order frequency')"
   ]
  },
  {
   "cell_type": "code",
   "execution_count": 126,
   "id": "12fd8bd7",
   "metadata": {},
   "outputs": [],
   "source": [
    "# Is there a correlation between age and family status?\n",
    "\n",
    "crosstab_fam_stat_age = pd.crosstab(df['Family_status'], df['age_range'], dropna = False)\n",
    "crosstab_fam_stat_age.to_clipboard()"
   ]
  },
  {
   "cell_type": "code",
   "execution_count": 130,
   "id": "856ae6da",
   "metadata": {},
   "outputs": [
    {
     "data": {
      "text/plain": [
       "Text(0, 0.5, '')"
      ]
     },
     "execution_count": 130,
     "metadata": {},
     "output_type": "execute_result"
    },
    {
     "data": {
      "image/png": "[encoded data removed]",
      "text/plain": [
       "<Figure size 432x288 with 1 Axes>"
      ]
     },
     "metadata": {
      "needs_background": "light"
     },
     "output_type": "display_data"
    }
   ],
   "source": [
    "age_status_bar = crosstab_fam_stat_age.plot.barh(stacked = True, color = ['orange','lightblue', 'steelblue', 'lightslategrey'])\n",
    "plt.title('Age group and Family status')\n",
    "plt.ylabel('')"
   ]
  },
  {
   "cell_type": "code",
   "execution_count": null,
   "id": "ac24b2dc",
   "metadata": {},
   "outputs": [],
   "source": []
  }
 ],
 "metadata": {
  "kernelspec": {
   "display_name": "Python 3 (ipykernel)",
   "language": "python",
   "name": "python3"
  },
  "language_info": {
   "codemirror_mode": {
    "name": "ipython",
    "version": 3
   },
   "file_extension": ".py",
   "mimetype": "text/x-python",
   "name": "python",
   "nbconvert_exporter": "python",
   "pygments_lexer": "ipython3",
   "version": "3.9.7"
  }
 },
 "nbformat": 4,
 "nbformat_minor": 5
}
